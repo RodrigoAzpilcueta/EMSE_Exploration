{
    "cells": [
        {
            "cell_type": "code",
            "execution_count": 1,
            "source": [
                "import pandas as pd\r\n",
                "import seaborn as sns\r\n",
                "from scipy.stats import norm\r\n",
                "import numpy as np\r\n",
                "import matplotlib.pyplot as plt\r\n",
                "from bokeh.plotting import figure, output_notebook, show\r\n",
                "output_notebook()"
            ],
            "outputs": [
                {
                    "output_type": "display_data",
                    "data": {
                        "text/html": [
                            "\n",
                            "    <div class=\"bk-root\">\n",
                            "        <a href=\"https://bokeh.org\" target=\"_blank\" class=\"bk-logo bk-logo-small bk-logo-notebook\"></a>\n",
                            "        <span id=\"1002\">Loading BokehJS ...</span>\n",
                            "    </div>"
                        ]
                    },
                    "metadata": {}
                },
                {
                    "output_type": "display_data",
                    "data": {
                        "application/vnd.bokehjs_load.v0+json": "",
                        "application/javascript": "\n(function(root) {\n  function now() {\n    return new Date();\n  }\n\n  var force = true;\n\n  if (typeof root._bokeh_onload_callbacks === \"undefined\" || force === true) {\n    root._bokeh_onload_callbacks = [];\n    root._bokeh_is_loading = undefined;\n  }\n\n  var JS_MIME_TYPE = 'application/javascript';\n  var HTML_MIME_TYPE = 'text/html';\n  var EXEC_MIME_TYPE = 'application/vnd.bokehjs_exec.v0+json';\n  var CLASS_NAME = 'output_bokeh rendered_html';\n\n  /**\n   * Render data to the DOM node\n   */\n  function render(props, node) {\n    var script = document.createElement(\"script\");\n    node.appendChild(script);\n  }\n\n  /**\n   * Handle when an output is cleared or removed\n   */\n  function handleClearOutput(event, handle) {\n    var cell = handle.cell;\n\n    var id = cell.output_area._bokeh_element_id;\n    var server_id = cell.output_area._bokeh_server_id;\n    // Clean up Bokeh references\n    if (id != null && id in Bokeh.index) {\n      Bokeh.index[id].model.document.clear();\n      delete Bokeh.index[id];\n    }\n\n    if (server_id !== undefined) {\n      // Clean up Bokeh references\n      var cmd = \"from bokeh.io.state import curstate; print(curstate().uuid_to_server['\" + server_id + \"'].get_sessions()[0].document.roots[0]._id)\";\n      cell.notebook.kernel.execute(cmd, {\n        iopub: {\n          output: function(msg) {\n            var id = msg.content.text.trim();\n            if (id in Bokeh.index) {\n              Bokeh.index[id].model.document.clear();\n              delete Bokeh.index[id];\n            }\n          }\n        }\n      });\n      // Destroy server and session\n      var cmd = \"import bokeh.io.notebook as ion; ion.destroy_server('\" + server_id + \"')\";\n      cell.notebook.kernel.execute(cmd);\n    }\n  }\n\n  /**\n   * Handle when a new output is added\n   */\n  function handleAddOutput(event, handle) {\n    var output_area = handle.output_area;\n    var output = handle.output;\n\n    // limit handleAddOutput to display_data with EXEC_MIME_TYPE content only\n    if ((output.output_type != \"display_data\") || (!Object.prototype.hasOwnProperty.call(output.data, EXEC_MIME_TYPE))) {\n      return\n    }\n\n    var toinsert = output_area.element.find(\".\" + CLASS_NAME.split(' ')[0]);\n\n    if (output.metadata[EXEC_MIME_TYPE][\"id\"] !== undefined) {\n      toinsert[toinsert.length - 1].firstChild.textContent = output.data[JS_MIME_TYPE];\n      // store reference to embed id on output_area\n      output_area._bokeh_element_id = output.metadata[EXEC_MIME_TYPE][\"id\"];\n    }\n    if (output.metadata[EXEC_MIME_TYPE][\"server_id\"] !== undefined) {\n      var bk_div = document.createElement(\"div\");\n      bk_div.innerHTML = output.data[HTML_MIME_TYPE];\n      var script_attrs = bk_div.children[0].attributes;\n      for (var i = 0; i < script_attrs.length; i++) {\n        toinsert[toinsert.length - 1].firstChild.setAttribute(script_attrs[i].name, script_attrs[i].value);\n        toinsert[toinsert.length - 1].firstChild.textContent = bk_div.children[0].textContent\n      }\n      // store reference to server id on output_area\n      output_area._bokeh_server_id = output.metadata[EXEC_MIME_TYPE][\"server_id\"];\n    }\n  }\n\n  function register_renderer(events, OutputArea) {\n\n    function append_mime(data, metadata, element) {\n      // create a DOM node to render to\n      var toinsert = this.create_output_subarea(\n        metadata,\n        CLASS_NAME,\n        EXEC_MIME_TYPE\n      );\n      this.keyboard_manager.register_events(toinsert);\n      // Render to node\n      var props = {data: data, metadata: metadata[EXEC_MIME_TYPE]};\n      render(props, toinsert[toinsert.length - 1]);\n      element.append(toinsert);\n      return toinsert\n    }\n\n    /* Handle when an output is cleared or removed */\n    events.on('clear_output.CodeCell', handleClearOutput);\n    events.on('delete.Cell', handleClearOutput);\n\n    /* Handle when a new output is added */\n    events.on('output_added.OutputArea', handleAddOutput);\n\n    /**\n     * Register the mime type and append_mime function with output_area\n     */\n    OutputArea.prototype.register_mime_type(EXEC_MIME_TYPE, append_mime, {\n      /* Is output safe? */\n      safe: true,\n      /* Index of renderer in `output_area.display_order` */\n      index: 0\n    });\n  }\n\n  // register the mime type if in Jupyter Notebook environment and previously unregistered\n  if (root.Jupyter !== undefined) {\n    var events = require('base/js/events');\n    var OutputArea = require('notebook/js/outputarea').OutputArea;\n\n    if (OutputArea.prototype.mime_types().indexOf(EXEC_MIME_TYPE) == -1) {\n      register_renderer(events, OutputArea);\n    }\n  }\n\n  \n  if (typeof (root._bokeh_timeout) === \"undefined\" || force === true) {\n    root._bokeh_timeout = Date.now() + 5000;\n    root._bokeh_failed_load = false;\n  }\n\n  var NB_LOAD_WARNING = {'data': {'text/html':\n     \"<div style='background-color: #fdd'>\\n\"+\n     \"<p>\\n\"+\n     \"BokehJS does not appear to have successfully loaded. If loading BokehJS from CDN, this \\n\"+\n     \"may be due to a slow or bad network connection. Possible fixes:\\n\"+\n     \"</p>\\n\"+\n     \"<ul>\\n\"+\n     \"<li>re-rerun `output_notebook()` to attempt to load from CDN again, or</li>\\n\"+\n     \"<li>use INLINE resources instead, as so:</li>\\n\"+\n     \"</ul>\\n\"+\n     \"<code>\\n\"+\n     \"from bokeh.resources import INLINE\\n\"+\n     \"output_notebook(resources=INLINE)\\n\"+\n     \"</code>\\n\"+\n     \"</div>\"}};\n\n  function display_loaded() {\n    var el = document.getElementById(\"1002\");\n    if (el != null) {\n      el.textContent = \"BokehJS is loading...\";\n    }\n    if (root.Bokeh !== undefined) {\n      if (el != null) {\n        el.textContent = \"BokehJS \" + root.Bokeh.version + \" successfully loaded.\";\n      }\n    } else if (Date.now() < root._bokeh_timeout) {\n      setTimeout(display_loaded, 100)\n    }\n  }\n\n\n  function run_callbacks() {\n    try {\n      root._bokeh_onload_callbacks.forEach(function(callback) {\n        if (callback != null)\n          callback();\n      });\n    } finally {\n      delete root._bokeh_onload_callbacks\n    }\n    console.debug(\"Bokeh: all callbacks have finished\");\n  }\n\n  function load_libs(css_urls, js_urls, callback) {\n    if (css_urls == null) css_urls = [];\n    if (js_urls == null) js_urls = [];\n\n    root._bokeh_onload_callbacks.push(callback);\n    if (root._bokeh_is_loading > 0) {\n      console.debug(\"Bokeh: BokehJS is being loaded, scheduling callback at\", now());\n      return null;\n    }\n    if (js_urls == null || js_urls.length === 0) {\n      run_callbacks();\n      return null;\n    }\n    console.debug(\"Bokeh: BokehJS not loaded, scheduling load and callback at\", now());\n    root._bokeh_is_loading = css_urls.length + js_urls.length;\n\n    function on_load() {\n      root._bokeh_is_loading--;\n      if (root._bokeh_is_loading === 0) {\n        console.debug(\"Bokeh: all BokehJS libraries/stylesheets loaded\");\n        run_callbacks()\n      }\n    }\n\n    function on_error(url) {\n      console.error(\"failed to load \" + url);\n    }\n\n    for (let i = 0; i < css_urls.length; i++) {\n      const url = css_urls[i];\n      const element = document.createElement(\"link\");\n      element.onload = on_load;\n      element.onerror = on_error.bind(null, url);\n      element.rel = \"stylesheet\";\n      element.type = \"text/css\";\n      element.href = url;\n      console.debug(\"Bokeh: injecting link tag for BokehJS stylesheet: \", url);\n      document.body.appendChild(element);\n    }\n\n    const hashes = {\"https://cdn.bokeh.org/bokeh/release/bokeh-2.3.2.min.js\": \"XypntL49z55iwGVUW4qsEu83zKL3XEcz0MjuGOQ9SlaaQ68X/g+k1FcioZi7oQAc\", \"https://cdn.bokeh.org/bokeh/release/bokeh-tables-2.3.2.min.js\": \"bEsM86IHGDTLCS0Zod8a8WM6Y4+lafAL/eSiyQcuPzinmWNgNO2/olUF0Z2Dkn5i\", \"https://cdn.bokeh.org/bokeh/release/bokeh-widgets-2.3.2.min.js\": \"TX0gSQTdXTTeScqxj6PVQxTiRW8DOoGVwinyi1D3kxv7wuxQ02XkOxv0xwiypcAH\"};\n\n    for (let i = 0; i < js_urls.length; i++) {\n      const url = js_urls[i];\n      const element = document.createElement('script');\n      element.onload = on_load;\n      element.onerror = on_error.bind(null, url);\n      element.async = false;\n      element.src = url;\n      if (url in hashes) {\n        element.crossOrigin = \"anonymous\";\n        element.integrity = \"sha384-\" + hashes[url];\n      }\n      console.debug(\"Bokeh: injecting script tag for BokehJS library: \", url);\n      document.head.appendChild(element);\n    }\n  };\n\n  function inject_raw_css(css) {\n    const element = document.createElement(\"style\");\n    element.appendChild(document.createTextNode(css));\n    document.body.appendChild(element);\n  }\n\n  \n  var js_urls = [\"https://cdn.bokeh.org/bokeh/release/bokeh-2.3.2.min.js\", \"https://cdn.bokeh.org/bokeh/release/bokeh-widgets-2.3.2.min.js\", \"https://cdn.bokeh.org/bokeh/release/bokeh-tables-2.3.2.min.js\"];\n  var css_urls = [];\n  \n\n  var inline_js = [\n    function(Bokeh) {\n      Bokeh.set_log_level(\"info\");\n    },\n    function(Bokeh) {\n    \n    \n    }\n  ];\n\n  function run_inline_js() {\n    \n    if (root.Bokeh !== undefined || force === true) {\n      \n    for (var i = 0; i < inline_js.length; i++) {\n      inline_js[i].call(root, root.Bokeh);\n    }\n    if (force === true) {\n        display_loaded();\n      }} else if (Date.now() < root._bokeh_timeout) {\n      setTimeout(run_inline_js, 100);\n    } else if (!root._bokeh_failed_load) {\n      console.log(\"Bokeh: BokehJS failed to load within specified timeout.\");\n      root._bokeh_failed_load = true;\n    } else if (force !== true) {\n      var cell = $(document.getElementById(\"1002\")).parents('.cell').data().cell;\n      cell.output_area.append_execute_result(NB_LOAD_WARNING)\n    }\n\n  }\n\n  if (root._bokeh_is_loading === 0) {\n    console.debug(\"Bokeh: BokehJS loaded, going straight to plotting\");\n    run_inline_js();\n  } else {\n    load_libs(css_urls, js_urls, function() {\n      console.debug(\"Bokeh: BokehJS plotting callback run at\", now());\n      run_inline_js();\n    });\n  }\n}(window));"
                    },
                    "metadata": {}
                }
            ],
            "metadata": {}
        },
        {
            "cell_type": "code",
            "execution_count": 84,
            "source": [
                "path = 'http://datos.salud.gob.ar/dataset/76d53a00-a42f-45c7-81be-197b6c357937/resource/509979de-3a24-4f86-8859-15e177eccb20/download/emse_datosabiertos.zip'\r\n",
                "df = pd.read_csv(path)\r\n",
                "df.head()\r\n"
            ],
            "outputs": [
                {
                    "output_type": "execute_result",
                    "data": {
                        "text/plain": [
                            "  sitio  record   q1 texto_q1   q2   texto_q2   q3  \\\n",
                            "0    AG       1  3.0  13 años  2.0   Femenino  2.0   \n",
                            "1    AG       2  3.0  13 años  2.0   Femenino  2.0   \n",
                            "2    AG       3  4.0  14 años  1.0  Masculino  4.0   \n",
                            "3    AG       4  6.0  16 años  1.0  Masculino  2.0   \n",
                            "4    AG       5  3.0  13 años  2.0   Femenino  2.0   \n",
                            "\n",
                            "                                            texto_q3    q4    q5  ...  \\\n",
                            "0  9no grado nivel Primario/Polimodal o 2do año n...   NaN   NaN  ...   \n",
                            "1  9no grado nivel Primario/Polimodal o 2do año n...   NaN   NaN  ...   \n",
                            "2  2do año/11vo grado nivel Polimodal o 4to año n...  1.67  56.0  ...   \n",
                            "3  9no grado nivel Primario/Polimodal o 2do año n...  1.73  70.0  ...   \n",
                            "4  9no grado nivel Primario/Polimodal o 2do año n...   NaN   NaN  ...   \n",
                            "\n",
                            "   texto_qnpa5g qnpa7g  texto_qnpa7g qnpe3g  texto_qnpe3g qnpe5g  \\\n",
                            "0            Si    1.0            Si    2.0            No    2.0   \n",
                            "1            Si    2.0            No    2.0            No    2.0   \n",
                            "2            Si    2.0            No    2.0            No    2.0   \n",
                            "3            No    2.0            No    1.0            Si    1.0   \n",
                            "4            No    2.0            No    2.0            No    2.0   \n",
                            "\n",
                            "   texto_qnpe5g  weight    stratum psu  \n",
                            "0            No  457.09  201801010  19  \n",
                            "1            No  457.09  201801010  19  \n",
                            "2            No  261.44  201801010  19  \n",
                            "3            Si  550.90  201801010  19  \n",
                            "4            No  457.09  201801010  19  \n",
                            "\n",
                            "[5 rows x 309 columns]"
                        ],
                        "text/html": [
                            "<div>\n",
                            "<style scoped>\n",
                            "    .dataframe tbody tr th:only-of-type {\n",
                            "        vertical-align: middle;\n",
                            "    }\n",
                            "\n",
                            "    .dataframe tbody tr th {\n",
                            "        vertical-align: top;\n",
                            "    }\n",
                            "\n",
                            "    .dataframe thead th {\n",
                            "        text-align: right;\n",
                            "    }\n",
                            "</style>\n",
                            "<table border=\"1\" class=\"dataframe\">\n",
                            "  <thead>\n",
                            "    <tr style=\"text-align: right;\">\n",
                            "      <th></th>\n",
                            "      <th>sitio</th>\n",
                            "      <th>record</th>\n",
                            "      <th>q1</th>\n",
                            "      <th>texto_q1</th>\n",
                            "      <th>q2</th>\n",
                            "      <th>texto_q2</th>\n",
                            "      <th>q3</th>\n",
                            "      <th>texto_q3</th>\n",
                            "      <th>q4</th>\n",
                            "      <th>q5</th>\n",
                            "      <th>...</th>\n",
                            "      <th>texto_qnpa5g</th>\n",
                            "      <th>qnpa7g</th>\n",
                            "      <th>texto_qnpa7g</th>\n",
                            "      <th>qnpe3g</th>\n",
                            "      <th>texto_qnpe3g</th>\n",
                            "      <th>qnpe5g</th>\n",
                            "      <th>texto_qnpe5g</th>\n",
                            "      <th>weight</th>\n",
                            "      <th>stratum</th>\n",
                            "      <th>psu</th>\n",
                            "    </tr>\n",
                            "  </thead>\n",
                            "  <tbody>\n",
                            "    <tr>\n",
                            "      <th>0</th>\n",
                            "      <td>AG</td>\n",
                            "      <td>1</td>\n",
                            "      <td>3.0</td>\n",
                            "      <td>13 años</td>\n",
                            "      <td>2.0</td>\n",
                            "      <td>Femenino</td>\n",
                            "      <td>2.0</td>\n",
                            "      <td>9no grado nivel Primario/Polimodal o 2do año n...</td>\n",
                            "      <td>NaN</td>\n",
                            "      <td>NaN</td>\n",
                            "      <td>...</td>\n",
                            "      <td>Si</td>\n",
                            "      <td>1.0</td>\n",
                            "      <td>Si</td>\n",
                            "      <td>2.0</td>\n",
                            "      <td>No</td>\n",
                            "      <td>2.0</td>\n",
                            "      <td>No</td>\n",
                            "      <td>457.09</td>\n",
                            "      <td>201801010</td>\n",
                            "      <td>19</td>\n",
                            "    </tr>\n",
                            "    <tr>\n",
                            "      <th>1</th>\n",
                            "      <td>AG</td>\n",
                            "      <td>2</td>\n",
                            "      <td>3.0</td>\n",
                            "      <td>13 años</td>\n",
                            "      <td>2.0</td>\n",
                            "      <td>Femenino</td>\n",
                            "      <td>2.0</td>\n",
                            "      <td>9no grado nivel Primario/Polimodal o 2do año n...</td>\n",
                            "      <td>NaN</td>\n",
                            "      <td>NaN</td>\n",
                            "      <td>...</td>\n",
                            "      <td>Si</td>\n",
                            "      <td>2.0</td>\n",
                            "      <td>No</td>\n",
                            "      <td>2.0</td>\n",
                            "      <td>No</td>\n",
                            "      <td>2.0</td>\n",
                            "      <td>No</td>\n",
                            "      <td>457.09</td>\n",
                            "      <td>201801010</td>\n",
                            "      <td>19</td>\n",
                            "    </tr>\n",
                            "    <tr>\n",
                            "      <th>2</th>\n",
                            "      <td>AG</td>\n",
                            "      <td>3</td>\n",
                            "      <td>4.0</td>\n",
                            "      <td>14 años</td>\n",
                            "      <td>1.0</td>\n",
                            "      <td>Masculino</td>\n",
                            "      <td>4.0</td>\n",
                            "      <td>2do año/11vo grado nivel Polimodal o 4to año n...</td>\n",
                            "      <td>1.67</td>\n",
                            "      <td>56.0</td>\n",
                            "      <td>...</td>\n",
                            "      <td>Si</td>\n",
                            "      <td>2.0</td>\n",
                            "      <td>No</td>\n",
                            "      <td>2.0</td>\n",
                            "      <td>No</td>\n",
                            "      <td>2.0</td>\n",
                            "      <td>No</td>\n",
                            "      <td>261.44</td>\n",
                            "      <td>201801010</td>\n",
                            "      <td>19</td>\n",
                            "    </tr>\n",
                            "    <tr>\n",
                            "      <th>3</th>\n",
                            "      <td>AG</td>\n",
                            "      <td>4</td>\n",
                            "      <td>6.0</td>\n",
                            "      <td>16 años</td>\n",
                            "      <td>1.0</td>\n",
                            "      <td>Masculino</td>\n",
                            "      <td>2.0</td>\n",
                            "      <td>9no grado nivel Primario/Polimodal o 2do año n...</td>\n",
                            "      <td>1.73</td>\n",
                            "      <td>70.0</td>\n",
                            "      <td>...</td>\n",
                            "      <td>No</td>\n",
                            "      <td>2.0</td>\n",
                            "      <td>No</td>\n",
                            "      <td>1.0</td>\n",
                            "      <td>Si</td>\n",
                            "      <td>1.0</td>\n",
                            "      <td>Si</td>\n",
                            "      <td>550.90</td>\n",
                            "      <td>201801010</td>\n",
                            "      <td>19</td>\n",
                            "    </tr>\n",
                            "    <tr>\n",
                            "      <th>4</th>\n",
                            "      <td>AG</td>\n",
                            "      <td>5</td>\n",
                            "      <td>3.0</td>\n",
                            "      <td>13 años</td>\n",
                            "      <td>2.0</td>\n",
                            "      <td>Femenino</td>\n",
                            "      <td>2.0</td>\n",
                            "      <td>9no grado nivel Primario/Polimodal o 2do año n...</td>\n",
                            "      <td>NaN</td>\n",
                            "      <td>NaN</td>\n",
                            "      <td>...</td>\n",
                            "      <td>No</td>\n",
                            "      <td>2.0</td>\n",
                            "      <td>No</td>\n",
                            "      <td>2.0</td>\n",
                            "      <td>No</td>\n",
                            "      <td>2.0</td>\n",
                            "      <td>No</td>\n",
                            "      <td>457.09</td>\n",
                            "      <td>201801010</td>\n",
                            "      <td>19</td>\n",
                            "    </tr>\n",
                            "  </tbody>\n",
                            "</table>\n",
                            "<p>5 rows × 309 columns</p>\n",
                            "</div>"
                        ]
                    },
                    "metadata": {},
                    "execution_count": 84
                }
            ],
            "metadata": {}
        },
        {
            "cell_type": "code",
            "execution_count": 235,
            "source": [
                "#df.rename(columns={'q1':'edad', 'q2':'sexo', 'q3':'grado',\r\n",
                "#                   'q6':'estatura', 'q5':'peso', 'q6':'apetencia',\r\n",
                "#                   'q10':'fast food', 'q15':'bullyng', 'q16':'peleas',\r\n",
                "#                   'q17':'lesion grave', 'q18':'tipo lesion',\r\n",
                "#                   'q19':'causa lesion', 'q22':'soledad',\r\n",
                "#                   'q23':'preocupacion-insomnio', 'q24':'considero suicidio',\r\n",
                "#                   'q25':'plan suicidio', 'q26':'intentos suicidio',\r\n",
                "#                   'q27':'amigos cercanos', 'q28':'primer cigarillo',\r\n",
                "#                   'q29':'cigarrillos', 'q30':'tabaco'}, inplace=True)\r\n",
                "#df.head()"
            ],
            "outputs": [],
            "metadata": {}
        },
        {
            "cell_type": "code",
            "execution_count": 3,
            "source": [
                "df.describe()"
            ],
            "outputs": [
                {
                    "output_type": "execute_result",
                    "data": {
                        "text/plain": [
                            "             record            q1            q2            q3            q4  \\\n",
                            "count  56981.000000  56873.000000  56445.000000  55920.000000  36052.000000   \n",
                            "mean   28535.389832      4.905403      1.520188      3.064485      1.642857   \n",
                            "std    16479.971553      1.358115      0.499597      1.324451      0.096898   \n",
                            "min        1.000000      1.000000      1.000000      1.000000      1.200000   \n",
                            "25%    14263.000000      4.000000      1.000000      2.000000      1.570000   \n",
                            "50%    28522.000000      5.000000      2.000000      3.000000      1.640000   \n",
                            "75%    42804.000000      6.000000      2.000000      4.000000      1.700000   \n",
                            "max    57095.000000      8.000000      2.000000      5.000000      2.030000   \n",
                            "\n",
                            "                 q5            q6           q10           q15           q16  \\\n",
                            "count  36052.000000  56482.000000  56771.000000  56741.000000  56713.000000   \n",
                            "mean      60.212193      1.460448      1.802734      1.361573      1.496447   \n",
                            "std       14.723909      0.764121      1.451475      1.079432      1.211089   \n",
                            "min       27.000000      1.000000      1.000000      1.000000      1.000000   \n",
                            "25%       51.000000      1.000000      1.000000      1.000000      1.000000   \n",
                            "50%       58.000000      1.000000      1.000000      1.000000      1.000000   \n",
                            "75%       66.000000      2.000000      2.000000      1.000000      1.000000   \n",
                            "max      187.000000      5.000000      8.000000      8.000000      8.000000   \n",
                            "\n",
                            "       ...      qnnotb2g      qnbcanyg         qnc1g        qnpa5g  \\\n",
                            "count  ...  55908.000000  19735.000000  19696.000000  55551.000000   \n",
                            "mean   ...      1.208968      1.089891      1.330575      1.701932   \n",
                            "std    ...      0.406575      0.286033      0.470432      0.457414   \n",
                            "min    ...      1.000000      1.000000      1.000000      1.000000   \n",
                            "25%    ...      1.000000      1.000000      1.000000      1.000000   \n",
                            "50%    ...      1.000000      1.000000      1.000000      2.000000   \n",
                            "75%    ...      1.000000      1.000000      2.000000      2.000000   \n",
                            "max    ...      2.000000      2.000000      2.000000      2.000000   \n",
                            "\n",
                            "             qnpa7g        qnpe3g        qnpe5g        weight       stratum  \\\n",
                            "count  55551.000000  55032.000000  55032.000000  56981.000000  5.698100e+04   \n",
                            "mean       1.828428      1.633431      1.687237     46.288166  2.018129e+08   \n",
                            "std        0.377011      0.481872      0.463623     80.162741  7.068990e+03   \n",
                            "min        1.000000      1.000000      1.000000      2.120000  2.018010e+08   \n",
                            "25%        2.000000      1.000000      1.000000     14.420000  2.018070e+08   \n",
                            "50%        2.000000      2.000000      2.000000     26.370000  2.018130e+08   \n",
                            "75%        2.000000      2.000000      2.000000     44.780000  2.018200e+08   \n",
                            "max        2.000000      2.000000      2.000000   1192.430000  2.018240e+08   \n",
                            "\n",
                            "                psu  \n",
                            "count  56981.000000  \n",
                            "mean      12.438234  \n",
                            "std        9.378964  \n",
                            "min        1.000000  \n",
                            "25%        6.000000  \n",
                            "50%       11.000000  \n",
                            "75%       17.000000  \n",
                            "max       57.000000  \n",
                            "\n",
                            "[8 rows x 157 columns]"
                        ],
                        "text/html": [
                            "<div>\n",
                            "<style scoped>\n",
                            "    .dataframe tbody tr th:only-of-type {\n",
                            "        vertical-align: middle;\n",
                            "    }\n",
                            "\n",
                            "    .dataframe tbody tr th {\n",
                            "        vertical-align: top;\n",
                            "    }\n",
                            "\n",
                            "    .dataframe thead th {\n",
                            "        text-align: right;\n",
                            "    }\n",
                            "</style>\n",
                            "<table border=\"1\" class=\"dataframe\">\n",
                            "  <thead>\n",
                            "    <tr style=\"text-align: right;\">\n",
                            "      <th></th>\n",
                            "      <th>record</th>\n",
                            "      <th>q1</th>\n",
                            "      <th>q2</th>\n",
                            "      <th>q3</th>\n",
                            "      <th>q4</th>\n",
                            "      <th>q5</th>\n",
                            "      <th>q6</th>\n",
                            "      <th>q10</th>\n",
                            "      <th>q15</th>\n",
                            "      <th>q16</th>\n",
                            "      <th>...</th>\n",
                            "      <th>qnnotb2g</th>\n",
                            "      <th>qnbcanyg</th>\n",
                            "      <th>qnc1g</th>\n",
                            "      <th>qnpa5g</th>\n",
                            "      <th>qnpa7g</th>\n",
                            "      <th>qnpe3g</th>\n",
                            "      <th>qnpe5g</th>\n",
                            "      <th>weight</th>\n",
                            "      <th>stratum</th>\n",
                            "      <th>psu</th>\n",
                            "    </tr>\n",
                            "  </thead>\n",
                            "  <tbody>\n",
                            "    <tr>\n",
                            "      <th>count</th>\n",
                            "      <td>56981.000000</td>\n",
                            "      <td>56873.000000</td>\n",
                            "      <td>56445.000000</td>\n",
                            "      <td>55920.000000</td>\n",
                            "      <td>36052.000000</td>\n",
                            "      <td>36052.000000</td>\n",
                            "      <td>56482.000000</td>\n",
                            "      <td>56771.000000</td>\n",
                            "      <td>56741.000000</td>\n",
                            "      <td>56713.000000</td>\n",
                            "      <td>...</td>\n",
                            "      <td>55908.000000</td>\n",
                            "      <td>19735.000000</td>\n",
                            "      <td>19696.000000</td>\n",
                            "      <td>55551.000000</td>\n",
                            "      <td>55551.000000</td>\n",
                            "      <td>55032.000000</td>\n",
                            "      <td>55032.000000</td>\n",
                            "      <td>56981.000000</td>\n",
                            "      <td>5.698100e+04</td>\n",
                            "      <td>56981.000000</td>\n",
                            "    </tr>\n",
                            "    <tr>\n",
                            "      <th>mean</th>\n",
                            "      <td>28535.389832</td>\n",
                            "      <td>4.905403</td>\n",
                            "      <td>1.520188</td>\n",
                            "      <td>3.064485</td>\n",
                            "      <td>1.642857</td>\n",
                            "      <td>60.212193</td>\n",
                            "      <td>1.460448</td>\n",
                            "      <td>1.802734</td>\n",
                            "      <td>1.361573</td>\n",
                            "      <td>1.496447</td>\n",
                            "      <td>...</td>\n",
                            "      <td>1.208968</td>\n",
                            "      <td>1.089891</td>\n",
                            "      <td>1.330575</td>\n",
                            "      <td>1.701932</td>\n",
                            "      <td>1.828428</td>\n",
                            "      <td>1.633431</td>\n",
                            "      <td>1.687237</td>\n",
                            "      <td>46.288166</td>\n",
                            "      <td>2.018129e+08</td>\n",
                            "      <td>12.438234</td>\n",
                            "    </tr>\n",
                            "    <tr>\n",
                            "      <th>std</th>\n",
                            "      <td>16479.971553</td>\n",
                            "      <td>1.358115</td>\n",
                            "      <td>0.499597</td>\n",
                            "      <td>1.324451</td>\n",
                            "      <td>0.096898</td>\n",
                            "      <td>14.723909</td>\n",
                            "      <td>0.764121</td>\n",
                            "      <td>1.451475</td>\n",
                            "      <td>1.079432</td>\n",
                            "      <td>1.211089</td>\n",
                            "      <td>...</td>\n",
                            "      <td>0.406575</td>\n",
                            "      <td>0.286033</td>\n",
                            "      <td>0.470432</td>\n",
                            "      <td>0.457414</td>\n",
                            "      <td>0.377011</td>\n",
                            "      <td>0.481872</td>\n",
                            "      <td>0.463623</td>\n",
                            "      <td>80.162741</td>\n",
                            "      <td>7.068990e+03</td>\n",
                            "      <td>9.378964</td>\n",
                            "    </tr>\n",
                            "    <tr>\n",
                            "      <th>min</th>\n",
                            "      <td>1.000000</td>\n",
                            "      <td>1.000000</td>\n",
                            "      <td>1.000000</td>\n",
                            "      <td>1.000000</td>\n",
                            "      <td>1.200000</td>\n",
                            "      <td>27.000000</td>\n",
                            "      <td>1.000000</td>\n",
                            "      <td>1.000000</td>\n",
                            "      <td>1.000000</td>\n",
                            "      <td>1.000000</td>\n",
                            "      <td>...</td>\n",
                            "      <td>1.000000</td>\n",
                            "      <td>1.000000</td>\n",
                            "      <td>1.000000</td>\n",
                            "      <td>1.000000</td>\n",
                            "      <td>1.000000</td>\n",
                            "      <td>1.000000</td>\n",
                            "      <td>1.000000</td>\n",
                            "      <td>2.120000</td>\n",
                            "      <td>2.018010e+08</td>\n",
                            "      <td>1.000000</td>\n",
                            "    </tr>\n",
                            "    <tr>\n",
                            "      <th>25%</th>\n",
                            "      <td>14263.000000</td>\n",
                            "      <td>4.000000</td>\n",
                            "      <td>1.000000</td>\n",
                            "      <td>2.000000</td>\n",
                            "      <td>1.570000</td>\n",
                            "      <td>51.000000</td>\n",
                            "      <td>1.000000</td>\n",
                            "      <td>1.000000</td>\n",
                            "      <td>1.000000</td>\n",
                            "      <td>1.000000</td>\n",
                            "      <td>...</td>\n",
                            "      <td>1.000000</td>\n",
                            "      <td>1.000000</td>\n",
                            "      <td>1.000000</td>\n",
                            "      <td>1.000000</td>\n",
                            "      <td>2.000000</td>\n",
                            "      <td>1.000000</td>\n",
                            "      <td>1.000000</td>\n",
                            "      <td>14.420000</td>\n",
                            "      <td>2.018070e+08</td>\n",
                            "      <td>6.000000</td>\n",
                            "    </tr>\n",
                            "    <tr>\n",
                            "      <th>50%</th>\n",
                            "      <td>28522.000000</td>\n",
                            "      <td>5.000000</td>\n",
                            "      <td>2.000000</td>\n",
                            "      <td>3.000000</td>\n",
                            "      <td>1.640000</td>\n",
                            "      <td>58.000000</td>\n",
                            "      <td>1.000000</td>\n",
                            "      <td>1.000000</td>\n",
                            "      <td>1.000000</td>\n",
                            "      <td>1.000000</td>\n",
                            "      <td>...</td>\n",
                            "      <td>1.000000</td>\n",
                            "      <td>1.000000</td>\n",
                            "      <td>1.000000</td>\n",
                            "      <td>2.000000</td>\n",
                            "      <td>2.000000</td>\n",
                            "      <td>2.000000</td>\n",
                            "      <td>2.000000</td>\n",
                            "      <td>26.370000</td>\n",
                            "      <td>2.018130e+08</td>\n",
                            "      <td>11.000000</td>\n",
                            "    </tr>\n",
                            "    <tr>\n",
                            "      <th>75%</th>\n",
                            "      <td>42804.000000</td>\n",
                            "      <td>6.000000</td>\n",
                            "      <td>2.000000</td>\n",
                            "      <td>4.000000</td>\n",
                            "      <td>1.700000</td>\n",
                            "      <td>66.000000</td>\n",
                            "      <td>2.000000</td>\n",
                            "      <td>2.000000</td>\n",
                            "      <td>1.000000</td>\n",
                            "      <td>1.000000</td>\n",
                            "      <td>...</td>\n",
                            "      <td>1.000000</td>\n",
                            "      <td>1.000000</td>\n",
                            "      <td>2.000000</td>\n",
                            "      <td>2.000000</td>\n",
                            "      <td>2.000000</td>\n",
                            "      <td>2.000000</td>\n",
                            "      <td>2.000000</td>\n",
                            "      <td>44.780000</td>\n",
                            "      <td>2.018200e+08</td>\n",
                            "      <td>17.000000</td>\n",
                            "    </tr>\n",
                            "    <tr>\n",
                            "      <th>max</th>\n",
                            "      <td>57095.000000</td>\n",
                            "      <td>8.000000</td>\n",
                            "      <td>2.000000</td>\n",
                            "      <td>5.000000</td>\n",
                            "      <td>2.030000</td>\n",
                            "      <td>187.000000</td>\n",
                            "      <td>5.000000</td>\n",
                            "      <td>8.000000</td>\n",
                            "      <td>8.000000</td>\n",
                            "      <td>8.000000</td>\n",
                            "      <td>...</td>\n",
                            "      <td>2.000000</td>\n",
                            "      <td>2.000000</td>\n",
                            "      <td>2.000000</td>\n",
                            "      <td>2.000000</td>\n",
                            "      <td>2.000000</td>\n",
                            "      <td>2.000000</td>\n",
                            "      <td>2.000000</td>\n",
                            "      <td>1192.430000</td>\n",
                            "      <td>2.018240e+08</td>\n",
                            "      <td>57.000000</td>\n",
                            "    </tr>\n",
                            "  </tbody>\n",
                            "</table>\n",
                            "<p>8 rows × 157 columns</p>\n",
                            "</div>"
                        ]
                    },
                    "metadata": {},
                    "execution_count": 3
                }
            ],
            "metadata": {}
        },
        {
            "cell_type": "code",
            "execution_count": 5,
            "source": [
                "df_age = df['q1']\r\n",
                "print(df_age.value_counts().sort_index())\r\n",
                "print('nan     ',df_age.isnull().sum())"
            ],
            "outputs": [
                {
                    "output_type": "stream",
                    "name": "stdout",
                    "text": [
                        "1.0       48\n",
                        "2.0      145\n",
                        "3.0    10574\n",
                        "4.0    12946\n",
                        "5.0    12812\n",
                        "6.0    11738\n",
                        "7.0     8227\n",
                        "8.0      383\n",
                        "Name: q1, dtype: int64\n",
                        "nan      108\n"
                    ]
                }
            ],
            "metadata": {}
        },
        {
            "cell_type": "code",
            "execution_count": 151,
            "source": [
                "def print_resume(data : pd.DataFrame, column_name : str, fields : list):\r\n",
                "    _df = data[column_name].value_counts().sort_index()\r\n",
                "    _df = _df.reset_index(drop=True)\r\n",
                "    _total = _df.sum()\r\n",
                "    index = 0    \r\n",
                "    for field in fields:\r\n",
                "        \r\n",
                "        print(field.ljust(25) +\r\n",
                "              f'{_df[index]}'.rjust(6) +\r\n",
                "              f'{round(_df[index] / _total * 100, 2)}%'.rjust(7))\r\n",
                "        index += 1"
            ],
            "outputs": [],
            "metadata": {}
        },
        {
            "cell_type": "markdown",
            "source": [
                "# Distribución por edades"
            ],
            "metadata": {}
        },
        {
            "cell_type": "code",
            "execution_count": 152,
            "source": [
                "# STATS\r\n",
                "print_resume(df, 'q1',['11 años o menos',\r\n",
                "                       '12 años', '13 años',\r\n",
                "                        '14 años', '15 años',\r\n",
                "                        '16 años', '17 años',\r\n",
                "                        '18 años o más'])\r\n",
                "# PLOT                       \r\n",
                "df_age = df['q1'].value_counts().sort_index()\r\n",
                "p = figure(title=\"Distribución por edades\",\r\n",
                "           sizing_mode = \"stretch_both\",\r\n",
                "           plot_width=500, plot_height=400,\r\n",
                "           x_axis_label=\"Edad\",\r\n",
                "           y_axis_label=\"Cantidad\")\r\n",
                "p.vbar(x=df_age.index,top=df_age.values, width=0.9)\r\n",
                "p.xaxis.ticker = [1, 2, 3, 4, 5, 6, 7, 8]\r\n",
                "p.xaxis.major_label_overrides = {1: '11 años o menos' ,\r\n",
                "                                 2: '12 años', 3: '13 años',\r\n",
                "                                 4: '14 años', 5: '15 años',\r\n",
                "                                 6: '16 años', 7:'17 años',\r\n",
                "                                 8: '18 años o más',}\r\n",
                "show(p)\r\n"
            ],
            "outputs": [
                {
                    "output_type": "stream",
                    "name": "stdout",
                    "text": [
                        "11 años o menos              48  0.08%\n",
                        "12 años                     145  0.25%\n",
                        "13 años                   10574 18.59%\n",
                        "14 años                   12946 22.76%\n",
                        "15 años                   12812 22.53%\n",
                        "16 años                   11738 20.64%\n",
                        "17 años                    8227 14.47%\n",
                        "18 años o más               383  0.67%\n"
                    ]
                },
                {
                    "output_type": "display_data",
                    "data": {
                        "text/html": [
                            "\n",
                            "\n",
                            "\n",
                            "\n",
                            "\n",
                            "\n",
                            "  <div class=\"bk-root\" id=\"06003e9f-d5ed-4d43-94eb-3f30e5361e15\" data-root-id=\"4691\"></div>\n"
                        ]
                    },
                    "metadata": {}
                },
                {
                    "output_type": "display_data",
                    "data": {
                        "application/vnd.bokehjs_exec.v0+json": "",
                        "application/javascript": "(function(root) {\n  function embed_document(root) {\n    \n  var docs_json = {\"87b9a1d2-bf12-4058-8b37-1289a165d367\":{\"defs\":[],\"roots\":{\"references\":[{\"attributes\":{\"below\":[{\"id\":\"4702\"}],\"center\":[{\"id\":\"4705\"},{\"id\":\"4709\"}],\"height\":400,\"left\":[{\"id\":\"4706\"}],\"renderers\":[{\"id\":\"4727\"}],\"sizing_mode\":\"stretch_both\",\"title\":{\"id\":\"4692\"},\"toolbar\":{\"id\":\"4717\"},\"width\":500,\"x_range\":{\"id\":\"4694\"},\"x_scale\":{\"id\":\"4698\"},\"y_range\":{\"id\":\"4696\"},\"y_scale\":{\"id\":\"4700\"}},\"id\":\"4691\",\"subtype\":\"Figure\",\"type\":\"Plot\"},{\"attributes\":{},\"id\":\"4700\",\"type\":\"LinearScale\"},{\"attributes\":{\"bottom_units\":\"screen\",\"fill_alpha\":0.5,\"fill_color\":\"lightgrey\",\"left_units\":\"screen\",\"level\":\"overlay\",\"line_alpha\":1.0,\"line_color\":\"black\",\"line_dash\":[4,4],\"line_width\":2,\"right_units\":\"screen\",\"syncable\":false,\"top_units\":\"screen\"},\"id\":\"4716\",\"type\":\"BoxAnnotation\"},{\"attributes\":{\"data_source\":{\"id\":\"4724\"},\"glyph\":{\"id\":\"4725\"},\"hover_glyph\":null,\"muted_glyph\":null,\"nonselection_glyph\":{\"id\":\"4726\"},\"view\":{\"id\":\"4728\"}},\"id\":\"4727\",\"type\":\"GlyphRenderer\"},{\"attributes\":{\"axis\":{\"id\":\"4706\"},\"dimension\":1,\"ticker\":null},\"id\":\"4709\",\"type\":\"Grid\"},{\"attributes\":{},\"id\":\"4909\",\"type\":\"BasicTickFormatter\"},{\"attributes\":{},\"id\":\"4910\",\"type\":\"AllLabels\"},{\"attributes\":{\"fill_color\":{\"value\":\"#1f77b4\"},\"line_color\":{\"value\":\"#1f77b4\"},\"top\":{\"field\":\"top\"},\"width\":{\"value\":0.9},\"x\":{\"field\":\"x\"}},\"id\":\"4725\",\"type\":\"VBar\"},{\"attributes\":{\"axis\":{\"id\":\"4702\"},\"ticker\":null},\"id\":\"4705\",\"type\":\"Grid\"},{\"attributes\":{},\"id\":\"4711\",\"type\":\"WheelZoomTool\"},{\"attributes\":{\"axis_label\":\"Edad\",\"formatter\":{\"id\":\"4909\"},\"major_label_overrides\":{\"1\":\"11 a\\u00f1os o menos\",\"2\":\"12 a\\u00f1os\",\"3\":\"13 a\\u00f1os\",\"4\":\"14 a\\u00f1os\",\"5\":\"15 a\\u00f1os\",\"6\":\"16 a\\u00f1os\",\"7\":\"17 a\\u00f1os\",\"8\":\"18 a\\u00f1os o m\\u00e1s\"},\"major_label_policy\":{\"id\":\"4908\"},\"ticker\":{\"id\":\"4729\"}},\"id\":\"4702\",\"type\":\"LinearAxis\"},{\"attributes\":{\"ticks\":[1,2,3,4,5,6,7,8]},\"id\":\"4729\",\"type\":\"FixedTicker\"},{\"attributes\":{\"axis_label\":\"Cantidad\",\"formatter\":{\"id\":\"4912\"},\"major_label_policy\":{\"id\":\"4910\"},\"ticker\":{\"id\":\"4707\"}},\"id\":\"4706\",\"type\":\"LinearAxis\"},{\"attributes\":{},\"id\":\"4715\",\"type\":\"HelpTool\"},{\"attributes\":{},\"id\":\"4908\",\"type\":\"AllLabels\"},{\"attributes\":{},\"id\":\"4914\",\"type\":\"UnionRenderers\"},{\"attributes\":{},\"id\":\"4694\",\"type\":\"DataRange1d\"},{\"attributes\":{},\"id\":\"4710\",\"type\":\"PanTool\"},{\"attributes\":{},\"id\":\"4713\",\"type\":\"SaveTool\"},{\"attributes\":{},\"id\":\"4707\",\"type\":\"BasicTicker\"},{\"attributes\":{},\"id\":\"4696\",\"type\":\"DataRange1d\"},{\"attributes\":{\"text\":\"Distribuci\\u00f3n por edades\"},\"id\":\"4692\",\"type\":\"Title\"},{\"attributes\":{},\"id\":\"4714\",\"type\":\"ResetTool\"},{\"attributes\":{\"source\":{\"id\":\"4724\"}},\"id\":\"4728\",\"type\":\"CDSView\"},{\"attributes\":{\"data\":{\"top\":[48,145,10574,12946,12812,11738,8227,383],\"x\":{\"__ndarray__\":\"AAAAAAAA8D8AAAAAAAAAQAAAAAAAAAhAAAAAAAAAEEAAAAAAAAAUQAAAAAAAABhAAAAAAAAAHEAAAAAAAAAgQA==\",\"dtype\":\"float64\",\"order\":\"little\",\"shape\":[8]}},\"selected\":{\"id\":\"4913\"},\"selection_policy\":{\"id\":\"4914\"}},\"id\":\"4724\",\"type\":\"ColumnDataSource\"},{\"attributes\":{},\"id\":\"4913\",\"type\":\"Selection\"},{\"attributes\":{},\"id\":\"4698\",\"type\":\"LinearScale\"},{\"attributes\":{\"overlay\":{\"id\":\"4716\"}},\"id\":\"4712\",\"type\":\"BoxZoomTool\"},{\"attributes\":{\"fill_alpha\":{\"value\":0.1},\"fill_color\":{\"value\":\"#1f77b4\"},\"line_alpha\":{\"value\":0.1},\"line_color\":{\"value\":\"#1f77b4\"},\"top\":{\"field\":\"top\"},\"width\":{\"value\":0.9},\"x\":{\"field\":\"x\"}},\"id\":\"4726\",\"type\":\"VBar\"},{\"attributes\":{},\"id\":\"4912\",\"type\":\"BasicTickFormatter\"},{\"attributes\":{\"active_multi\":null,\"tools\":[{\"id\":\"4710\"},{\"id\":\"4711\"},{\"id\":\"4712\"},{\"id\":\"4713\"},{\"id\":\"4714\"},{\"id\":\"4715\"}]},\"id\":\"4717\",\"type\":\"Toolbar\"}],\"root_ids\":[\"4691\"]},\"title\":\"Bokeh Application\",\"version\":\"2.3.2\"}};\n  var render_items = [{\"docid\":\"87b9a1d2-bf12-4058-8b37-1289a165d367\",\"root_ids\":[\"4691\"],\"roots\":{\"4691\":\"06003e9f-d5ed-4d43-94eb-3f30e5361e15\"}}];\n  root.Bokeh.embed.embed_items_notebook(docs_json, render_items);\n\n  }\n  if (root.Bokeh !== undefined) {\n    embed_document(root);\n  } else {\n    var attempts = 0;\n    var timer = setInterval(function(root) {\n      if (root.Bokeh !== undefined) {\n        clearInterval(timer);\n        embed_document(root);\n      } else {\n        attempts++;\n        if (attempts > 100) {\n          clearInterval(timer);\n          console.log(\"Bokeh: ERROR: Unable to run BokehJS code because BokehJS library is missing\");\n        }\n      }\n    }, 10, root)\n  }\n})(window);"
                    },
                    "metadata": {
                        "application/vnd.bokehjs_exec.v0+json": {
                            "id": "4691"
                        }
                    }
                }
            ],
            "metadata": {}
        },
        {
            "cell_type": "markdown",
            "source": [
                "El rango de edades se concentra entre los 13 y 17 años de edad."
            ],
            "metadata": {}
        },
        {
            "cell_type": "markdown",
            "source": [
                "# Distribución por Sexo"
            ],
            "metadata": {}
        },
        {
            "cell_type": "code",
            "execution_count": 153,
            "source": [
                "print_resume(df, 'q2',['Masculino',  'Femenino'])\r\n",
                "df_sex = df['q2'].value_counts().sort_index()\r\n",
                "p = figure(title=\"Distribución por Sexo\",           \r\n",
                "           plot_width=400, plot_height=400,\r\n",
                "           x_axis_label=\"Sexo\",\r\n",
                "           y_axis_label=\"Cantidad\")\r\n",
                "p.vbar(x=df_sex.index,top=df_sex.values, width=0.9)\r\n",
                "p.xaxis.ticker = [1, 2]\r\n",
                "p.xaxis.major_label_overrides = {1:'Masculino', 2:'Femenino'}\r\n",
                "\r\n",
                "show(p)"
            ],
            "outputs": [
                {
                    "output_type": "stream",
                    "name": "stdout",
                    "text": [
                        "Masculino                 27083 47.98%\n",
                        "Femenino                  29362 52.02%\n"
                    ]
                },
                {
                    "output_type": "display_data",
                    "data": {
                        "text/html": [
                            "\n",
                            "\n",
                            "\n",
                            "\n",
                            "\n",
                            "\n",
                            "  <div class=\"bk-root\" id=\"9027d0f2-38cd-443e-8999-1c27888f7e08\" data-root-id=\"4961\"></div>\n"
                        ]
                    },
                    "metadata": {}
                },
                {
                    "output_type": "display_data",
                    "data": {
                        "application/vnd.bokehjs_exec.v0+json": "",
                        "application/javascript": "(function(root) {\n  function embed_document(root) {\n    \n  var docs_json = {\"c5f872ac-6d97-42bf-9e49-a139415978cb\":{\"defs\":[],\"roots\":{\"references\":[{\"attributes\":{\"below\":[{\"id\":\"4972\"}],\"center\":[{\"id\":\"4975\"},{\"id\":\"4979\"}],\"height\":400,\"left\":[{\"id\":\"4976\"}],\"renderers\":[{\"id\":\"4997\"}],\"title\":{\"id\":\"4962\"},\"toolbar\":{\"id\":\"4987\"},\"width\":400,\"x_range\":{\"id\":\"4964\"},\"x_scale\":{\"id\":\"4968\"},\"y_range\":{\"id\":\"4966\"},\"y_scale\":{\"id\":\"4970\"}},\"id\":\"4961\",\"subtype\":\"Figure\",\"type\":\"Plot\"},{\"attributes\":{\"axis_label\":\"Sexo\",\"formatter\":{\"id\":\"5188\"},\"major_label_overrides\":{\"1\":\"Masculino\",\"2\":\"Femenino\"},\"major_label_policy\":{\"id\":\"5187\"},\"ticker\":{\"id\":\"4999\"}},\"id\":\"4972\",\"type\":\"LinearAxis\"},{\"attributes\":{\"ticks\":[1,2]},\"id\":\"4999\",\"type\":\"FixedTicker\"},{\"attributes\":{\"overlay\":{\"id\":\"4986\"}},\"id\":\"4982\",\"type\":\"BoxZoomTool\"},{\"attributes\":{\"data_source\":{\"id\":\"4994\"},\"glyph\":{\"id\":\"4995\"},\"hover_glyph\":null,\"muted_glyph\":null,\"nonselection_glyph\":{\"id\":\"4996\"},\"view\":{\"id\":\"4998\"}},\"id\":\"4997\",\"type\":\"GlyphRenderer\"},{\"attributes\":{},\"id\":\"4964\",\"type\":\"DataRange1d\"},{\"attributes\":{},\"id\":\"5189\",\"type\":\"AllLabels\"},{\"attributes\":{},\"id\":\"5192\",\"type\":\"Selection\"},{\"attributes\":{},\"id\":\"4977\",\"type\":\"BasicTicker\"},{\"attributes\":{\"axis_label\":\"Cantidad\",\"formatter\":{\"id\":\"5191\"},\"major_label_policy\":{\"id\":\"5189\"},\"ticker\":{\"id\":\"4977\"}},\"id\":\"4976\",\"type\":\"LinearAxis\"},{\"attributes\":{\"fill_color\":{\"value\":\"#1f77b4\"},\"line_color\":{\"value\":\"#1f77b4\"},\"top\":{\"field\":\"top\"},\"width\":{\"value\":0.9},\"x\":{\"field\":\"x\"}},\"id\":\"4995\",\"type\":\"VBar\"},{\"attributes\":{},\"id\":\"4968\",\"type\":\"LinearScale\"},{\"attributes\":{\"active_multi\":null,\"tools\":[{\"id\":\"4980\"},{\"id\":\"4981\"},{\"id\":\"4982\"},{\"id\":\"4983\"},{\"id\":\"4984\"},{\"id\":\"4985\"}]},\"id\":\"4987\",\"type\":\"Toolbar\"},{\"attributes\":{},\"id\":\"4970\",\"type\":\"LinearScale\"},{\"attributes\":{},\"id\":\"4985\",\"type\":\"HelpTool\"},{\"attributes\":{},\"id\":\"5187\",\"type\":\"AllLabels\"},{\"attributes\":{},\"id\":\"4980\",\"type\":\"PanTool\"},{\"attributes\":{},\"id\":\"5193\",\"type\":\"UnionRenderers\"},{\"attributes\":{},\"id\":\"4981\",\"type\":\"WheelZoomTool\"},{\"attributes\":{},\"id\":\"4966\",\"type\":\"DataRange1d\"},{\"attributes\":{\"axis\":{\"id\":\"4972\"},\"ticker\":null},\"id\":\"4975\",\"type\":\"Grid\"},{\"attributes\":{\"bottom_units\":\"screen\",\"fill_alpha\":0.5,\"fill_color\":\"lightgrey\",\"left_units\":\"screen\",\"level\":\"overlay\",\"line_alpha\":1.0,\"line_color\":\"black\",\"line_dash\":[4,4],\"line_width\":2,\"right_units\":\"screen\",\"syncable\":false,\"top_units\":\"screen\"},\"id\":\"4986\",\"type\":\"BoxAnnotation\"},{\"attributes\":{\"text\":\"Distribuci\\u00f3n por Sexo\"},\"id\":\"4962\",\"type\":\"Title\"},{\"attributes\":{},\"id\":\"4983\",\"type\":\"SaveTool\"},{\"attributes\":{\"source\":{\"id\":\"4994\"}},\"id\":\"4998\",\"type\":\"CDSView\"},{\"attributes\":{},\"id\":\"4984\",\"type\":\"ResetTool\"},{\"attributes\":{\"data\":{\"top\":[27083,29362],\"x\":{\"__ndarray__\":\"AAAAAAAA8D8AAAAAAAAAQA==\",\"dtype\":\"float64\",\"order\":\"little\",\"shape\":[2]}},\"selected\":{\"id\":\"5192\"},\"selection_policy\":{\"id\":\"5193\"}},\"id\":\"4994\",\"type\":\"ColumnDataSource\"},{\"attributes\":{\"axis\":{\"id\":\"4976\"},\"dimension\":1,\"ticker\":null},\"id\":\"4979\",\"type\":\"Grid\"},{\"attributes\":{\"fill_alpha\":{\"value\":0.1},\"fill_color\":{\"value\":\"#1f77b4\"},\"line_alpha\":{\"value\":0.1},\"line_color\":{\"value\":\"#1f77b4\"},\"top\":{\"field\":\"top\"},\"width\":{\"value\":0.9},\"x\":{\"field\":\"x\"}},\"id\":\"4996\",\"type\":\"VBar\"},{\"attributes\":{},\"id\":\"5188\",\"type\":\"BasicTickFormatter\"},{\"attributes\":{},\"id\":\"5191\",\"type\":\"BasicTickFormatter\"}],\"root_ids\":[\"4961\"]},\"title\":\"Bokeh Application\",\"version\":\"2.3.2\"}};\n  var render_items = [{\"docid\":\"c5f872ac-6d97-42bf-9e49-a139415978cb\",\"root_ids\":[\"4961\"],\"roots\":{\"4961\":\"9027d0f2-38cd-443e-8999-1c27888f7e08\"}}];\n  root.Bokeh.embed.embed_items_notebook(docs_json, render_items);\n\n  }\n  if (root.Bokeh !== undefined) {\n    embed_document(root);\n  } else {\n    var attempts = 0;\n    var timer = setInterval(function(root) {\n      if (root.Bokeh !== undefined) {\n        clearInterval(timer);\n        embed_document(root);\n      } else {\n        attempts++;\n        if (attempts > 100) {\n          clearInterval(timer);\n          console.log(\"Bokeh: ERROR: Unable to run BokehJS code because BokehJS library is missing\");\n        }\n      }\n    }, 10, root)\n  }\n})(window);"
                    },
                    "metadata": {
                        "application/vnd.bokehjs_exec.v0+json": {
                            "id": "4961"
                        }
                    }
                }
            ],
            "metadata": {}
        },
        {
            "cell_type": "markdown",
            "source": [
                "# Distribución de alturas"
            ],
            "metadata": {}
        },
        {
            "cell_type": "code",
            "execution_count": 95,
            "source": [
                "loc, scale = norm.fit(df['q4'].dropna())\r\n",
                "x = np.linspace(df['q4'].min(), df['q4'].max(),1000)\r\n",
                "y = norm(scale=scale, loc=loc).pdf(x)\r\n",
                "fig, axe = plt.subplots()\r\n",
                "axe.plot(x,y, label=\"Distribución Normal\") \r\n",
                "df['q4'].value_counts()\r\n",
                "g = sns.histplot(data=df['q4'], bins=40)\r\n",
                "y = (y / y.max())* max([h.get_height() for h in g.patches]) * 0.9\r\n",
                "g = sns.lineplot(x=x,y=y, color='red')\r\n",
                "g.set_xlabel('Altura (Mts)')\r\n",
                "g.set_ylabel('Cantidad')\r\n",
                "g.set_title('Histograma de Alturas')\r\n",
                "g.text(df['q4'].max() * 0.9, max([h.get_height() for h in g.patches]) * 0.7,'Media = '+ str(round(loc,2)), fontsize=9)\r\n",
                "g.text(df['q4'].max() * 0.9, max([h.get_height() for h in g.patches]) * 0.65,'    Std = '+ str(round(scale,2)), fontsize=9) \r\n",
                "\r\n"
            ],
            "outputs": [
                {
                    "output_type": "execute_result",
                    "data": {
                        "text/plain": [
                            "Text(1.827, 2373.15, '    Std = 0.1')"
                        ]
                    },
                    "metadata": {},
                    "execution_count": 95
                },
                {
                    "output_type": "display_data",
                    "data": {
                        "text/plain": [
                            "<Figure size 432x288 with 1 Axes>"
                        ],
                        "image/png": "[encoded data removed]"
                    },
                    "metadata": {
                        "needs_background": "light"
                    }
                }
            ],
            "metadata": {}
        },
        {
            "cell_type": "markdown",
            "source": [
                "Podemos observar que el Histograma de alturas sigue una distribucion normal con una media de 1.64 mts con una desviación estandar de 0.1 mts"
            ],
            "metadata": {}
        },
        {
            "cell_type": "markdown",
            "source": [
                "# Distribución de peso"
            ],
            "metadata": {}
        },
        {
            "cell_type": "code",
            "execution_count": 96,
            "source": [
                "loc, scale = norm.fit(df['q5'].dropna())\r\n",
                "x = np.linspace(df['q5'].min(), df['q5'].max(),1000)\r\n",
                "y = norm(scale=scale, loc=loc).pdf(x)\r\n",
                "fig, axe = plt.subplots()\r\n",
                "axe.plot(x,y, label=\"Distribución Normal\") \r\n",
                "df['q4'].value_counts()\r\n",
                "g = sns.histplot(data=df['q5'], bins=40)\r\n",
                "y = (y / y.max())* max([h.get_height() for h in g.patches]) * 0.9\r\n",
                "g = sns.lineplot(x=x,y=y, color='red')\r\n",
                "g.set_xlabel('Peso (Kg)')\r\n",
                "g.set_ylabel('Cantidad')\r\n",
                "g.set_title('Histograma de Pesos')\r\n",
                "g.text(df['q5'].max() * 0.8, max([h.get_height() for h in g.patches]) * 0.7, f'Media = {round(loc,2)} ', fontsize=9)\r\n",
                "g.text(df['q5'].max() *0.8, max([h.get_height() for h in g.patches]) * 0.65, f'    Std = {round(scale,2)} ', fontsize=9) "
            ],
            "outputs": [
                {
                    "output_type": "execute_result",
                    "data": {
                        "text/plain": [
                            "Text(149.6, 3538.6, '    Std = 14.72 ')"
                        ]
                    },
                    "metadata": {},
                    "execution_count": 96
                },
                {
                    "output_type": "display_data",
                    "data": {
                        "text/plain": [
                            "<Figure size 432x288 with 1 Axes>"
                        ],
                        "image/png": "[encoded data removed]"
                    },
                    "metadata": {
                        "needs_background": "light"
                    }
                }
            ],
            "metadata": {}
        },
        {
            "cell_type": "markdown",
            "source": [
                "Podemos observar que el Histograma de peso sigue una distribucion normal con una media de 60.21 Kgs con una desviación estandar de 14.72 Kgs"
            ],
            "metadata": {}
        },
        {
            "cell_type": "markdown",
            "source": [
                "# Alimentación"
            ],
            "metadata": {}
        },
        {
            "cell_type": "markdown",
            "source": [
                "## INDICE DE MASA CORPORAL\r\n",
                "Para establecer la condicion utilizaremos para el calculo el indice de masa corporal. \r\n",
                "Estableceremos las siguientes categorias en base al IMC que se almacenaran en la feature \"condicion\":\r\n",
                "* Percentil <5:         Peso Bajo =      1 \r\n",
                "* Percentil >= 5 y <85: Peso saludable = 2\r\n",
                "* Percentil >=85 y <95: Sobrepeso =      3\r\n",
                "* Percentil > 95:       Obsesidad =      4    \r\n"
            ],
            "metadata": {}
        },
        {
            "cell_type": "code",
            "execution_count": 85,
            "source": [
                "df['IMC'] = df['q5'] / (df['q4'] ** 2)\r\n",
                "df['IMC'].describe()"
            ],
            "outputs": [
                {
                    "output_type": "execute_result",
                    "data": {
                        "text/plain": [
                            "count    36052.000000\n",
                            "mean        22.234716\n",
                            "std          4.759118\n",
                            "min         11.428571\n",
                            "25%         19.531250\n",
                            "50%         21.564545\n",
                            "75%         23.875115\n",
                            "max         70.908113\n",
                            "Name: IMC, dtype: float64"
                        ]
                    },
                    "metadata": {},
                    "execution_count": 85
                }
            ],
            "metadata": {}
        },
        {
            "cell_type": "code",
            "execution_count": 99,
            "source": [
                "df['condicion'] = None\r\n",
                "df.loc[df['IMC'] < df['IMC'].quantile(0.05), 'condicion'] = 1\r\n",
                "df.loc[(df['IMC'] >= df['IMC'].quantile(0.05)) & (df['IMC'] < df['IMC'].quantile(0.85)), 'condicion'] = 2\r\n",
                "df.loc[(df['IMC'] >= df['IMC'].quantile(0.85)) & (df['IMC'] < df['IMC'].quantile(0.95)), 'condicion'] = 3\r\n",
                "df.loc[df['IMC'] > df['IMC'].quantile(0.95), 'condicion'] = 4\r\n",
                "print_resume(df, 'condicion', ['Peso Bajo', 'Saludable',\r\n",
                "                               'Sobrepeso', 'Obesidad'])\r\n"
            ],
            "outputs": [
                {
                    "output_type": "stream",
                    "name": "stdout",
                    "text": [
                        "Peso Bajo          1795  4.98%\n",
                        "Saludable         28847 80.03%\n",
                        "Sobrepeso          3603  10.0%\n",
                        "Obesidad           1802   5.0%\n"
                    ]
                }
            ],
            "metadata": {}
        },
        {
            "cell_type": "markdown",
            "source": [
                "## Durante los últimos 30 días ¿con qué frecuencia te quedaste con hambre porque no había suficiente comida en tu hogar?\r\n",
                "### Total de la muestra"
            ],
            "metadata": {}
        },
        {
            "cell_type": "code",
            "execution_count": 71,
            "source": [
                "print_resume(df, 'q6', ['Nunca', 'Rara vez',\r\n",
                "                        'Algunas veces', 'Casi siempre',\r\n",
                "                        'Siempre'])"
            ],
            "outputs": [
                {
                    "output_type": "stream",
                    "name": "stdout",
                    "text": [
                        "Nunca             38257 67.73%\n",
                        "Rara vez          11820 20.93%\n",
                        "Algunas veces      5342  9.46%\n",
                        "Casi siempre        749  1.33%\n",
                        "Siempre             314  0.56%\n"
                    ]
                }
            ],
            "metadata": {}
        },
        {
            "cell_type": "markdown",
            "source": [
                "### Personas con bajo peso"
            ],
            "metadata": {}
        },
        {
            "cell_type": "code",
            "execution_count": 107,
            "source": [
                "print_resume(df[df['condicion'] == 1], 'q6', ['Nunca', 'Rara vez',\r\n",
                "                        'Algunas veces', 'Casi siempre',\r\n",
                "                        'Siempre'])"
            ],
            "outputs": [
                {
                    "output_type": "stream",
                    "name": "stdout",
                    "text": [
                        "Nunca              1218 68.47%\n",
                        "Rara vez            357 20.07%\n",
                        "Algunas veces       168  9.44%\n",
                        "Casi siempre         31  1.74%\n",
                        "Siempre               5  0.28%\n"
                    ]
                }
            ],
            "metadata": {}
        },
        {
            "cell_type": "markdown",
            "source": [
                "### Personas con peso normal "
            ],
            "metadata": {}
        },
        {
            "cell_type": "code",
            "execution_count": 109,
            "source": [
                "print_resume(df[df['condicion'] == 2], 'q6', ['Nunca', 'Rara vez',\r\n",
                "                        'Algunas veces', 'Casi siempre',\r\n",
                "                        'Siempre'])"
            ],
            "outputs": [
                {
                    "output_type": "stream",
                    "name": "stdout",
                    "text": [
                        "Nunca             19756 68.87%\n",
                        "Rara vez           5938  20.7%\n",
                        "Algunas veces      2542  8.86%\n",
                        "Casi siempre        337  1.17%\n",
                        "Siempre             115   0.4%\n"
                    ]
                }
            ],
            "metadata": {}
        },
        {
            "cell_type": "markdown",
            "source": [
                "### Personas con sobrepeso"
            ],
            "metadata": {}
        },
        {
            "cell_type": "code",
            "execution_count": 110,
            "source": [
                "print_resume(df[df['condicion'] == 3], 'q6', ['Nunca', 'Rara vez',\r\n",
                "                        'Algunas veces', 'Casi siempre',\r\n",
                "                        'Siempre'])"
            ],
            "outputs": [
                {
                    "output_type": "stream",
                    "name": "stdout",
                    "text": [
                        "Nunca              2460  68.7%\n",
                        "Rara vez            719 20.08%\n",
                        "Algunas veces       337  9.41%\n",
                        "Casi siempre         41  1.14%\n",
                        "Siempre              24  0.67%\n"
                    ]
                }
            ],
            "metadata": {}
        },
        {
            "cell_type": "markdown",
            "source": [
                "### Personas obesas"
            ],
            "metadata": {}
        },
        {
            "cell_type": "code",
            "execution_count": 106,
            "source": [
                "print_resume(df[df['condicion'] == 4], 'q6', ['Nunca', 'Rara vez',\r\n",
                "                        'Algunas veces', 'Casi siempre',\r\n",
                "                        'Siempre'])"
            ],
            "outputs": [
                {
                    "output_type": "stream",
                    "name": "stdout",
                    "text": [
                        "Nunca              1198 66.93%\n",
                        "Rara vez            378 21.12%\n",
                        "Algunas veces       173  9.66%\n",
                        "Casi siempre         33  1.84%\n",
                        "Siempre               8  0.45%\n"
                    ]
                }
            ],
            "metadata": {}
        },
        {
            "cell_type": "markdown",
            "source": [
                "Los numeros señalas que no hay una diferencia apreciable que indique que alguno de las categorias dentro de \"condicion\" hayan pasado hambre más cantidad de veces que el resto. "
            ],
            "metadata": {}
        },
        {
            "cell_type": "markdown",
            "source": [
                "## Durante los últimos 7 días, ¿cuántos días comiste en un restaurante de comida rápida como  McDonald’s, Burger King, Mostaza, una hamburguesería o panchería?\r\n",
                "### Total de la muestra"
            ],
            "metadata": {}
        },
        {
            "cell_type": "code",
            "execution_count": 72,
            "source": [
                "print_resume(df, 'q10', ['0 dias', '1 dia',\r\n",
                "                         '2 dias', '3 dias',\r\n",
                "                         '4 dias', '5 dias',\r\n",
                "                         '6 dias', '7 dias'])"
            ],
            "outputs": [
                {
                    "output_type": "stream",
                    "name": "stdout",
                    "text": [
                        "0 dias            35326 62.23%\n",
                        "1 dia             11014  19.4%\n",
                        "2 dias             4964  8.74%\n",
                        "3 dias             2296  4.04%\n",
                        "4 dias             1001  1.76%\n",
                        "5 dias              590  1.04%\n",
                        "6 dias              272  0.48%\n",
                        "7 dias             1308   2.3%\n"
                    ]
                }
            ],
            "metadata": {}
        },
        {
            "cell_type": "markdown",
            "source": [
                "### Personas de bajo peso"
            ],
            "metadata": {}
        },
        {
            "cell_type": "code",
            "execution_count": 111,
            "source": [
                "print_resume(df[df[ 'condicion'] == 1], 'q10', ['0 dias', '1 dia',\r\n",
                "                         '2 dias', '3 dias',\r\n",
                "                         '4 dias', '5 dias',\r\n",
                "                         '6 dias', '7 dias'])"
            ],
            "outputs": [
                {
                    "output_type": "stream",
                    "name": "stdout",
                    "text": [
                        "0 dias             1044 58.32%\n",
                        "1 dia               362 20.22%\n",
                        "2 dias              168  9.39%\n",
                        "3 dias               98  5.47%\n",
                        "4 dias               35  1.96%\n",
                        "5 dias               31  1.73%\n",
                        "6 dias                3  0.17%\n",
                        "7 dias               49  2.74%\n"
                    ]
                }
            ],
            "metadata": {}
        },
        {
            "cell_type": "markdown",
            "source": [
                "### Personas de peso normal"
            ],
            "metadata": {}
        },
        {
            "cell_type": "code",
            "execution_count": 112,
            "source": [
                "print_resume(df[df[ 'condicion'] == 2], 'q10', ['0 dias', '1 dia',\r\n",
                "                         '2 dias', '3 dias',\r\n",
                "                         '4 dias', '5 dias',\r\n",
                "                         '6 dias', '7 dias'])"
            ],
            "outputs": [
                {
                    "output_type": "stream",
                    "name": "stdout",
                    "text": [
                        "0 dias            17594 61.14%\n",
                        "1 dia              5886 20.45%\n",
                        "2 dias             2682  9.32%\n",
                        "3 dias             1171  4.07%\n",
                        "4 dias              467  1.62%\n",
                        "5 dias              279  0.97%\n",
                        "6 dias              130  0.45%\n",
                        "7 dias              569  1.98%\n"
                    ]
                }
            ],
            "metadata": {}
        },
        {
            "cell_type": "markdown",
            "source": [
                "### Personas con sobrepeso"
            ],
            "metadata": {}
        },
        {
            "cell_type": "code",
            "execution_count": 113,
            "source": [
                "print_resume(df[df[ 'condicion'] == 3], 'q10', ['0 dias', '1 dia',\r\n",
                "                         '2 dias', '3 dias',\r\n",
                "                         '4 dias', '5 dias',\r\n",
                "                         '6 dias', '7 dias'])"
            ],
            "outputs": [
                {
                    "output_type": "stream",
                    "name": "stdout",
                    "text": [
                        "0 dias             2390 66.43%\n",
                        "1 dia               662  18.4%\n",
                        "2 dias              256  7.12%\n",
                        "3 dias              122  3.39%\n",
                        "4 dias               54   1.5%\n",
                        "5 dias               32  0.89%\n",
                        "6 dias               16  0.44%\n",
                        "7 dias               66  1.83%\n"
                    ]
                }
            ],
            "metadata": {}
        },
        {
            "cell_type": "markdown",
            "source": [
                "### Personas con obesidad"
            ],
            "metadata": {}
        },
        {
            "cell_type": "code",
            "execution_count": 114,
            "source": [
                "print_resume(df[df[ 'condicion'] == 4], 'q10', ['0 dias', '1 dia',\r\n",
                "                         '2 dias', '3 dias',\r\n",
                "                         '4 dias', '5 dias',\r\n",
                "                         '6 dias', '7 dias'])"
            ],
            "outputs": [
                {
                    "output_type": "stream",
                    "name": "stdout",
                    "text": [
                        "0 dias             1208 67.11%\n",
                        "1 dia               317 17.61%\n",
                        "2 dias              118  6.56%\n",
                        "3 dias               46  2.56%\n",
                        "4 dias               37  2.06%\n",
                        "5 dias               12  0.67%\n",
                        "6 dias                6  0.33%\n",
                        "7 dias               56  3.11%\n"
                    ]
                }
            ],
            "metadata": {}
        },
        {
            "cell_type": "code",
            "execution_count": 123,
            "source": [
                "df_temp = pd.DataFrame()\r\n",
                "df_temp[['Peso', 'Fast Food']] = df[['q5', 'q10']]\r\n",
                "print('Correlación')\r\n",
                "df_temp.corr()"
            ],
            "outputs": [
                {
                    "output_type": "stream",
                    "name": "stdout",
                    "text": [
                        "Correlación\n"
                    ]
                },
                {
                    "output_type": "execute_result",
                    "data": {
                        "text/plain": [
                            "               Peso  Fast Food\n",
                            "Peso       1.000000  -0.038915\n",
                            "Fast Food -0.038915   1.000000"
                        ],
                        "text/html": [
                            "<div>\n",
                            "<style scoped>\n",
                            "    .dataframe tbody tr th:only-of-type {\n",
                            "        vertical-align: middle;\n",
                            "    }\n",
                            "\n",
                            "    .dataframe tbody tr th {\n",
                            "        vertical-align: top;\n",
                            "    }\n",
                            "\n",
                            "    .dataframe thead th {\n",
                            "        text-align: right;\n",
                            "    }\n",
                            "</style>\n",
                            "<table border=\"1\" class=\"dataframe\">\n",
                            "  <thead>\n",
                            "    <tr style=\"text-align: right;\">\n",
                            "      <th></th>\n",
                            "      <th>Peso</th>\n",
                            "      <th>Fast Food</th>\n",
                            "    </tr>\n",
                            "  </thead>\n",
                            "  <tbody>\n",
                            "    <tr>\n",
                            "      <th>Peso</th>\n",
                            "      <td>1.000000</td>\n",
                            "      <td>-0.038915</td>\n",
                            "    </tr>\n",
                            "    <tr>\n",
                            "      <th>Fast Food</th>\n",
                            "      <td>-0.038915</td>\n",
                            "      <td>1.000000</td>\n",
                            "    </tr>\n",
                            "  </tbody>\n",
                            "</table>\n",
                            "</div>"
                        ]
                    },
                    "metadata": {},
                    "execution_count": 123
                }
            ],
            "metadata": {}
        },
        {
            "cell_type": "markdown",
            "source": [
                "Podemos observar que se asciende de categoria en \"condicion\" el porcentaje de personas que consumieron al menos alguna vez fast food en la semana aumenta lo que indicaria a priori un relación entre estas variables. \r\n",
                "Si calculamos la correlación entre peso y cantidad de dias que comieron comida rapida en la ultima semana podemos concluir que la relación entre ambas es despreciable."
            ],
            "metadata": {}
        },
        {
            "cell_type": "markdown",
            "source": [
                "# TABAQUISMO ADOLESCENTE\r\n",
                "## ¿Qué edad tenías cuando probaste un cigarrillo por primera vez?"
            ],
            "metadata": {}
        },
        {
            "cell_type": "code",
            "execution_count": 128,
            "source": [
                "fields = ['Nunca probé cigarrillos', '7 años de edad o menos',\r\n",
                "          '8 o 9 años', '10 u 11 años', '12 o 13 años',\r\n",
                "          '14 o 15 años', '16 o 17 años', '18 años o más']\r\n",
                "print_resume(df, 'q28', fields)"
            ],
            "outputs": [
                {
                    "output_type": "stream",
                    "name": "stdout",
                    "text": [
                        "Nunca probé cigarrillos   33312 59.68%\n",
                        "7 años de edad o menos     1291  2.31%\n",
                        "8 o 9 años                 1645  2.95%\n",
                        "10 u 11 años               3330  5.97%\n",
                        "12 o 13 años               7401 13.26%\n",
                        "14 o 15 años               6944 12.44%\n",
                        "16 o 17 años               1874  3.36%\n",
                        "18 años o más                17  0.03%\n"
                    ]
                }
            ],
            "metadata": {}
        },
        {
            "cell_type": "markdown",
            "source": [
                "Mas del 40% de los adolescentes probaron alguna vez el cigarrillo\r\n",
                "## Masculinos"
            ],
            "metadata": {}
        },
        {
            "cell_type": "code",
            "execution_count": 160,
            "source": [
                "fields = ['Nunca probé cigarrillos', '7 años de edad o menos',\r\n",
                "          '8 o 9 años', '10 u 11 años', '12 o 13 años',\r\n",
                "          '14 o 15 años', '16 o 17 años', '18 años o más']\r\n",
                "print_resume(df[df['q2'] == 1], 'q28', fields)"
            ],
            "outputs": [
                {
                    "output_type": "stream",
                    "name": "stdout",
                    "text": [
                        "Nunca probé cigarrillos   16118 60.96%\n",
                        "7 años de edad o menos      680  2.57%\n",
                        "8 o 9 años                  835  3.16%\n",
                        "10 u 11 años               1744   6.6%\n",
                        "12 o 13 años               3172  12.0%\n",
                        "14 o 15 años               2992 11.32%\n",
                        "16 o 17 años                889  3.36%\n",
                        "18 años o más                12  0.05%\n"
                    ]
                }
            ],
            "metadata": {}
        },
        {
            "cell_type": "markdown",
            "source": [
                "## Femeninos"
            ],
            "metadata": {}
        },
        {
            "cell_type": "code",
            "execution_count": 161,
            "source": [
                "fields = ['Nunca probé cigarrillos', '7 años de edad o menos',\r\n",
                "          '8 o 9 años', '10 u 11 años', '12 o 13 años',\r\n",
                "          '14 o 15 años', '16 o 17 años', '18 años o más']\r\n",
                "print_resume(df[df['q2'] == 2], 'q28', fields)"
            ],
            "outputs": [
                {
                    "output_type": "stream",
                    "name": "stdout",
                    "text": [
                        "Nunca probé cigarrillos   16919 58.58%\n",
                        "7 años de edad o menos      585  2.03%\n",
                        "8 o 9 años                  796  2.76%\n",
                        "10 u 11 años               1558  5.39%\n",
                        "12 o 13 años               4156 14.39%\n",
                        "14 o 15 años               3895 13.49%\n",
                        "16 o 17 años                968  3.35%\n",
                        "18 años o más                 4  0.01%\n"
                    ]
                }
            ],
            "metadata": {}
        },
        {
            "cell_type": "markdown",
            "source": [
                "En proporcion  el porcentaje de personas de sexo femenino que probo alguna vez el cigarrillo es mayor que las personas de sexo masculino (2.38%)."
            ],
            "metadata": {}
        },
        {
            "cell_type": "code",
            "execution_count": 156,
            "source": [
                "fields = [ '7 años de edad o menos',\r\n",
                "          '8 o 9 años', '10 u 11 años', '12 o 13 años',\r\n",
                "          '14 o 15 años', '16 o 17 años', '18 años o más']\r\n",
                "df_temp = df['q28'] - 1\r\n",
                "print_resume(df[df['q28'] > 1], 'q28', fields)"
            ],
            "outputs": [
                {
                    "output_type": "stream",
                    "name": "stdout",
                    "text": [
                        "7 años de edad o menos     1291  5.74%\n",
                        "8 o 9 años                 1645  7.31%\n",
                        "10 u 11 años               3330  14.8%\n",
                        "12 o 13 años               7401 32.89%\n",
                        "14 o 15 años               6944 30.86%\n",
                        "16 o 17 años               1874  8.33%\n",
                        "18 años o más                17  0.08%\n"
                    ]
                }
            ],
            "metadata": {}
        },
        {
            "cell_type": "markdown",
            "source": [
                "Mas del 60% de los que probaron cigarrillo lo hicieron entre los 12 y 15 años."
            ],
            "metadata": {}
        },
        {
            "cell_type": "code",
            "execution_count": 163,
            "source": [
                "fields = [ '0 dias', '1 o 2 dias', '3 a 5 dias',\r\n",
                "           '6 a 9 dias', '10 a 19 dias', '20 a 29 dias',\r\n",
                "           'los 30 dias']\r\n",
                "print_resume(df[df['q28'] > 1], 'q29', fields)"
            ],
            "outputs": [
                {
                    "output_type": "stream",
                    "name": "stdout",
                    "text": [
                        "0 dias                    11325 50.66%\n",
                        "1 o 2 dias                 4593 20.55%\n",
                        "3 a 5 dias                 1801  8.06%\n",
                        "6 a 9 dias                 1213  5.43%\n",
                        "10 a 19 dias               1238  5.54%\n",
                        "20 a 29 dias                758  3.39%\n",
                        "los 30 dias                1426  6.38%\n"
                    ]
                }
            ],
            "metadata": {}
        },
        {
            "cell_type": "markdown",
            "source": [
                "Si consideramos como fumador a la persona que lo hace todos los dias podemos concluir que de aquellas personas que han probado el cigarrillo el 6.38% se han convertido en fumadores."
            ],
            "metadata": {}
        },
        {
            "cell_type": "markdown",
            "source": [
                "### Masculinos"
            ],
            "metadata": {}
        },
        {
            "cell_type": "code",
            "execution_count": 164,
            "source": [
                "print_resume(df[(df['q28'] > 1) & (df['q2'] == 1)], 'q29', fields)"
            ],
            "outputs": [
                {
                    "output_type": "stream",
                    "name": "stdout",
                    "text": [
                        "0 dias                     5396  52.6%\n",
                        "1 o 2 dias                 1966 19.17%\n",
                        "3 a 5 dias                  750  7.31%\n",
                        "6 a 9 dias                  558  5.44%\n",
                        "10 a 19 dias                521  5.08%\n",
                        "20 a 29 dias                338  3.29%\n",
                        "los 30 dias                 729  7.11%\n"
                    ]
                }
            ],
            "metadata": {}
        },
        {
            "cell_type": "markdown",
            "source": [
                "### Femeninos"
            ],
            "metadata": {}
        },
        {
            "cell_type": "code",
            "execution_count": 165,
            "source": [
                "print_resume(df[(df['q28'] > 1) & (df['q2'] == 2)], 'q29', fields)"
            ],
            "outputs": [
                {
                    "output_type": "stream",
                    "name": "stdout",
                    "text": [
                        "0 dias                     5843 49.17%\n",
                        "1 o 2 dias                 2575 21.67%\n",
                        "3 a 5 dias                 1037  8.73%\n",
                        "6 a 9 dias                  644  5.42%\n",
                        "10 a 19 dias                698  5.87%\n",
                        "20 a 29 dias                411  3.46%\n",
                        "los 30 dias                 676  5.69%\n"
                    ]
                }
            ],
            "metadata": {}
        },
        {
            "cell_type": "markdown",
            "source": [
                "Las personas de sexo masculino presentan un mayor porcentaje de conversión a fumadores."
            ],
            "metadata": {}
        },
        {
            "cell_type": "markdown",
            "source": [
                "# Influencia de tener padres fumadores"
            ],
            "metadata": {}
        },
        {
            "cell_type": "code",
            "execution_count": 172,
            "source": [
                "df['padres fumadores'] = 0\r\n",
                "df.loc[(df['q34'] >=2) & (df['q34'] <=4) , 'padres fumadores'] = 1 "
            ],
            "outputs": [],
            "metadata": {}
        },
        {
            "cell_type": "code",
            "execution_count": 179,
            "source": [
                "df['padres fumadores'].sum()"
            ],
            "outputs": [
                {
                    "output_type": "execute_result",
                    "data": {
                        "text/plain": [
                            "10971"
                        ]
                    },
                    "metadata": {},
                    "execution_count": 179
                }
            ],
            "metadata": {}
        },
        {
            "cell_type": "markdown",
            "source": [
                "## Padres Fumadores"
            ],
            "metadata": {}
        },
        {
            "cell_type": "code",
            "execution_count": 181,
            "source": [
                "print_resume(df[(df['padres fumadores'] == 1) & (df['q28'] > 1)], 'q29', fields)"
            ],
            "outputs": [
                {
                    "output_type": "stream",
                    "name": "stdout",
                    "text": [
                        "0 dias                     2893 45.33%\n",
                        "1 o 2 dias                 1323 20.73%\n",
                        "3 a 5 dias                  577  9.04%\n",
                        "6 a 9 dias                  401  6.28%\n",
                        "10 a 19 dias                403  6.31%\n",
                        "20 a 29 dias                226  3.54%\n",
                        "los 30 dias                 559  8.76%\n"
                    ]
                }
            ],
            "metadata": {}
        },
        {
            "cell_type": "markdown",
            "source": [
                "## Padres No Fumadores"
            ],
            "metadata": {}
        },
        {
            "cell_type": "code",
            "execution_count": 182,
            "source": [
                "print_resume(df[(df['padres fumadores'] == 0) & (df['q28'] > 1)], 'q29', fields)"
            ],
            "outputs": [
                {
                    "output_type": "stream",
                    "name": "stdout",
                    "text": [
                        "0 dias                     8432 52.79%\n",
                        "1 o 2 dias                 3270 20.47%\n",
                        "3 a 5 dias                 1224  7.66%\n",
                        "6 a 9 dias                  812  5.08%\n",
                        "10 a 19 dias                835  5.23%\n",
                        "20 a 29 dias                532  3.33%\n",
                        "los 30 dias                 867  5.43%\n"
                    ]
                }
            ],
            "metadata": {}
        },
        {
            "cell_type": "markdown",
            "source": [
                "De los datos anteriores se deduce una clara influencia de las conductas de tabaquismo en los padres. Si los padres son fumadores hay un mayor porcentaje de que sus hijos lo sean. "
            ],
            "metadata": {}
        },
        {
            "cell_type": "code",
            "execution_count": 46,
            "source": [
                "print('Categorias:')\r\n",
                "print(f'Bajo Peso: {df_o[\"Bajo Peso\"].sum()}')\r\n",
                "print(f'Normal: {df_o[\"Normal\"].sum()}')     \r\n",
                "print(f'Sobre Peso: {df_o[\"Sobrepeso\"].sum()}')     \r\n",
                "print(f'Obesidad: {df_o[\"Obeso\"].sum()}')             "
            ],
            "outputs": [
                {
                    "output_type": "stream",
                    "name": "stdout",
                    "text": [
                        "Categorias:\n",
                        "Bajo Peso: 1641\n",
                        "Normal: 26540\n",
                        "Sobre Peso: 3302\n",
                        "Obesidad: 1652\n"
                    ]
                }
            ],
            "metadata": {}
        },
        {
            "cell_type": "code",
            "execution_count": 162,
            "source": [
                "df_temp = df_o[df_o['Bajo Peso'] == 1].sample(frac=1)\r\n",
                "df_train = df_temp.iloc[0: round(df_o['Bajo Peso'].sum()*0.8)]\r\n",
                "df_val = df_temp.iloc[round(df_o['Bajo Peso'].sum()*0.8) : round(df_o['Bajo Peso'].sum()*0.9)]\r\n",
                "df_test = df_temp.iloc[round(df_o['Bajo Peso'].sum()*0.9) :]\r\n",
                "df_temp = df_o[df_o['Normal'] == 1]\r\n",
                "df_train = df_train.append(df_temp.iloc[0: round(df_o['Bajo Peso'].sum()*0.8)])\r\n",
                "df_val = df_val.append(df_temp.iloc[round(df_o['Bajo Peso'].sum()*0.8) : round(df_o['Bajo Peso'].sum()*0.9)])\r\n",
                "df_test = df_test.append(df_temp.iloc[round(df_o['Bajo Peso'].sum()*0.9) : df_o['Bajo Peso'].sum()])\r\n",
                "df_temp = df_o[df_o['Sobrepeso'] == 1]\r\n",
                "df_train = df_train.append(df_temp.iloc[0: round(df_o['Bajo Peso'].sum()*0.8)])\r\n",
                "df_val = df_val.append(df_temp.iloc[round(df_o['Bajo Peso'].sum()*0.8) : round(df_o['Bajo Peso'].sum()*0.9)])\r\n",
                "df_test = df_test.append(df_temp.iloc[round(df_o['Bajo Peso'].sum()*0.9) : df_o['Bajo Peso'].sum()])\r\n",
                "df_temp = df_o[df_o['Obeso'] == 1]\r\n",
                "df_train = df_train.append(df_temp.iloc[0: round(df_o['Bajo Peso'].sum()*0.8)])\r\n",
                "df_val = df_val.append(df_temp.iloc[round(df_o['Bajo Peso'].sum()*0.8) : round(df_o['Bajo Peso'].sum()*0.9)])\r\n",
                "df_test = df_test.append(df_temp.iloc[round(df_o['Bajo Peso'].sum()*0.9) : df_o['Bajo Peso'].sum()])\r\n"
            ],
            "outputs": [],
            "metadata": {}
        },
        {
            "cell_type": "code",
            "execution_count": 155,
            "source": [
                "print(df_train.shape)\r\n",
                "print(df_val.shape)\r\n",
                "print(df_test.shape)"
            ],
            "outputs": [
                {
                    "output_type": "stream",
                    "name": "stdout",
                    "text": [
                        "(5252, 19)\n",
                        "(656, 19)\n",
                        "(656, 19)\n"
                    ]
                }
            ],
            "metadata": {}
        },
        {
            "cell_type": "code",
            "execution_count": 156,
            "source": [
                "print('Categorias Train:')\r\n",
                "print(f'Bajo Peso: {df_train[\"Bajo Peso\"].sum()}')\r\n",
                "print(f'Normal: {df_train[\"Normal\"].sum()}')     \r\n",
                "print(f'Sobre Peso: {df_train[\"Sobrepeso\"].sum()}')     \r\n",
                "print(f'Obesidad: {df_train[\"Obeso\"].sum()}')     "
            ],
            "outputs": [
                {
                    "output_type": "stream",
                    "name": "stdout",
                    "text": [
                        "Categorias Train:\n",
                        "Bajo Peso: 1313\n",
                        "Normal: 1313\n",
                        "Sobre Peso: 1313\n",
                        "Obesidad: 1313\n"
                    ]
                }
            ],
            "metadata": {}
        },
        {
            "cell_type": "code",
            "execution_count": 157,
            "source": [
                "print('Categorias Validation:')\r\n",
                "print(f'Bajo Peso: {df_val[\"Bajo Peso\"].sum()}')\r\n",
                "print(f'Normal: {df_val[\"Normal\"].sum()}')     \r\n",
                "print(f'Sobre Peso: {df_val[\"Sobrepeso\"].sum()}')     \r\n",
                "print(f'Obesidad: {df_val[\"Obeso\"].sum()}')      "
            ],
            "outputs": [
                {
                    "output_type": "stream",
                    "name": "stdout",
                    "text": [
                        "Categorias Validation:\n",
                        "Bajo Peso: 164\n",
                        "Normal: 164\n",
                        "Sobre Peso: 164\n",
                        "Obesidad: 164\n"
                    ]
                }
            ],
            "metadata": {}
        },
        {
            "cell_type": "code",
            "execution_count": 158,
            "source": [
                "print('Categorias Test:')\r\n",
                "print(f'Bajo Peso: {df_test[\"Bajo Peso\"].sum()}')\r\n",
                "print(f'Normal: {df_test[\"Normal\"].sum()}')     \r\n",
                "print(f'Sobre Peso: {df_test[\"Sobrepeso\"].sum()}')     \r\n",
                "print(f'Obesidad: {df_test[\"Obeso\"].sum()}') "
            ],
            "outputs": [
                {
                    "output_type": "stream",
                    "name": "stdout",
                    "text": [
                        "Categorias Test:\n",
                        "Bajo Peso: 164\n",
                        "Normal: 164\n",
                        "Sobre Peso: 164\n",
                        "Obesidad: 164\n"
                    ]
                }
            ],
            "metadata": {}
        },
        {
            "cell_type": "code",
            "execution_count": 159,
            "source": [],
            "outputs": [],
            "metadata": {}
        },
        {
            "cell_type": "code",
            "execution_count": 163,
            "source": [
                "df_train.drop(['Altura','Peso','Atacado', 'IMC'], axis=1, inplace=True)\r\n",
                "df_test.drop(['Altura','Peso','Atacado', 'IMC'], axis=1, inplace=True)\r\n",
                "df_val.drop(['Altura','Peso','Atacado', 'IMC'], axis=1, inplace=True)"
            ],
            "outputs": [],
            "metadata": {}
        },
        {
            "cell_type": "code",
            "execution_count": 164,
            "source": [
                "x_train = df_train.drop(['Bajo Peso', 'Normal', 'Sobrepeso', 'Obeso'], axis=1).to_numpy()\r\n",
                "y_train = df_train[['Bajo Peso', 'Normal', 'Sobrepeso', 'Obeso']] .to_numpy()\r\n",
                "x_val = df_val.drop(['Bajo Peso', 'Normal', 'Sobrepeso', 'Obeso'], axis=1).to_numpy()\r\n",
                "y_val = df_val[['Bajo Peso', 'Normal', 'Sobrepeso', 'Obeso']] .to_numpy()\r\n",
                "x_test = df_test.drop(['Bajo Peso', 'Normal', 'Sobrepeso', 'Obeso'], axis=1).to_numpy()\r\n",
                "y_test = df_test[['Bajo Peso', 'Normal', 'Sobrepeso', 'Obeso']] .to_numpy()\r\n"
            ],
            "outputs": [],
            "metadata": {}
        },
        {
            "cell_type": "code",
            "execution_count": 167,
            "source": [
                "print('x_train: ',x_train.shape,'y_train: ', y_train.shape)\r\n",
                "print('x_val: ',x_val.shape,'y_val: ', y_val.shape)\r\n",
                "print('x_test: ',x_test.shape,'y_test: ', y_test.shape)"
            ],
            "outputs": [
                {
                    "output_type": "stream",
                    "name": "stdout",
                    "text": [
                        "x_train:  (5252, 11) y_train:  (5252, 4)\n",
                        "x_val:  (656, 11) y_val:  (656, 4)\n",
                        "x_test:  (656, 11) y_test:  (656, 4)\n"
                    ]
                }
            ],
            "metadata": {}
        },
        {
            "cell_type": "code",
            "execution_count": 168,
            "source": [
                "from sklearn.preprocessing import StandardScaler\r\n",
                "scaler = StandardScaler()\r\n",
                "from tensorflow.keras.models import Sequential\r\n",
                "from tensorflow.keras.layers import Dense, Activation, Dropout\r\n",
                "from tensorflow.keras.utils import to_categorical, plot_model\r\n"
            ],
            "outputs": [],
            "metadata": {}
        },
        {
            "cell_type": "code",
            "execution_count": 183,
            "source": [
                "scaler.fit(x_train)\r\n",
                "x_train = scaler.transform(x_train)\r\n",
                "x_train"
            ],
            "outputs": [
                {
                    "output_type": "execute_result",
                    "data": {
                        "text/plain": [
                            "array([[-0.60229187, -0.55763644, -1.30202841, ..., -0.53965074,\n",
                            "        -0.91106299, -0.32668967],\n",
                            "       [-0.60229187,  0.83169306, -0.87954891, ...,  1.03814422,\n",
                            "         1.26653234,  2.60250224],\n",
                            "       [-0.60229187, -0.55763644, -0.03458991, ..., -0.53965074,\n",
                            "        -0.91106299, -1.05898765],\n",
                            "       ...,\n",
                            "       [-0.60229187, -0.55763644, -1.30202841, ..., -0.53965074,\n",
                            "        -0.18519788, -0.32668967],\n",
                            "       [-0.60229187, -0.55763644,  0.38788959, ...,  0.51221257,\n",
                            "         1.26653234, -1.05898765],\n",
                            "       [ 0.69252471, -0.55763644, -0.45706941, ...,  1.03814422,\n",
                            "         0.54066723,  1.13790628]])"
                        ]
                    },
                    "metadata": {},
                    "execution_count": 183
                }
            ],
            "metadata": {}
        },
        {
            "cell_type": "code",
            "execution_count": 184,
            "source": [
                "input_size = 11\r\n",
                "num_labels = 4\r\n",
                "batch_size = 128\r\n",
                "hidden_units = 64\r\n",
                "dropout = 0.45\r\n",
                "# model is a 3-layer MLP with ReLU and dropout after each layer\r\n",
                "model = Sequential()\r\n",
                "model.add(Dense(hidden_units, input_dim=input_size))\r\n",
                "model.add(Activation('relu'))\r\n",
                "model.add(Dropout(dropout))\r\n",
                "model.add(Dense(hidden_units))\r\n",
                "model.add(Activation('relu'))\r\n",
                "model.add(Dropout(dropout))\r\n",
                "model.add(Dense(num_labels))\r\n",
                "# this is the output for one-hot vector\r\n",
                "model.add(Activation('softmax'))\r\n",
                "model.summary()\r\n"
            ],
            "outputs": [
                {
                    "output_type": "stream",
                    "name": "stdout",
                    "text": [
                        "Model: \"sequential_3\"\n",
                        "_________________________________________________________________\n",
                        "Layer (type)                 Output Shape              Param #   \n",
                        "=================================================================\n",
                        "dense_9 (Dense)              (None, 64)                768       \n",
                        "_________________________________________________________________\n",
                        "activation_9 (Activation)    (None, 64)                0         \n",
                        "_________________________________________________________________\n",
                        "dropout_6 (Dropout)          (None, 64)                0         \n",
                        "_________________________________________________________________\n",
                        "dense_10 (Dense)             (None, 64)                4160      \n",
                        "_________________________________________________________________\n",
                        "activation_10 (Activation)   (None, 64)                0         \n",
                        "_________________________________________________________________\n",
                        "dropout_7 (Dropout)          (None, 64)                0         \n",
                        "_________________________________________________________________\n",
                        "dense_11 (Dense)             (None, 4)                 260       \n",
                        "_________________________________________________________________\n",
                        "activation_11 (Activation)   (None, 4)                 0         \n",
                        "=================================================================\n",
                        "Total params: 5,188\n",
                        "Trainable params: 5,188\n",
                        "Non-trainable params: 0\n",
                        "_________________________________________________________________\n"
                    ]
                }
            ],
            "metadata": {}
        },
        {
            "cell_type": "code",
            "execution_count": 186,
            "source": [
                "model.compile(loss='categorical_crossentropy',\r\n",
                "              optimizer='adam',\r\n",
                "              metrics=['accuracy'])\r\n"
            ],
            "outputs": [],
            "metadata": {}
        },
        {
            "cell_type": "code",
            "execution_count": 187,
            "source": [
                "model.fit(x_train, y_train, epochs=50, batch_size=batch_size)"
            ],
            "outputs": [
                {
                    "output_type": "stream",
                    "name": "stdout",
                    "text": [
                        "Epoch 1/50\n",
                        "42/42 [==============================] - 2s 4ms/step - loss: 1.4697 - accuracy: 0.2605\n",
                        "Epoch 2/50\n",
                        "42/42 [==============================] - 0s 4ms/step - loss: 1.4294 - accuracy: 0.2673\n",
                        "Epoch 3/50\n",
                        "42/42 [==============================] - 0s 4ms/step - loss: 1.4132 - accuracy: 0.2700\n",
                        "Epoch 4/50\n",
                        "42/42 [==============================] - 0s 4ms/step - loss: 1.3984 - accuracy: 0.2746\n",
                        "Epoch 5/50\n",
                        "42/42 [==============================] - 0s 4ms/step - loss: 1.3942 - accuracy: 0.2808\n",
                        "Epoch 6/50\n",
                        "42/42 [==============================] - 0s 4ms/step - loss: 1.3927 - accuracy: 0.2690\n",
                        "Epoch 7/50\n",
                        "42/42 [==============================] - 0s 5ms/step - loss: 1.3876 - accuracy: 0.2856\n",
                        "Epoch 8/50\n",
                        "42/42 [==============================] - 0s 5ms/step - loss: 1.3798 - accuracy: 0.2947\n",
                        "Epoch 9/50\n",
                        "42/42 [==============================] - 0s 4ms/step - loss: 1.3839 - accuracy: 0.2808\n",
                        "Epoch 10/50\n",
                        "42/42 [==============================] - 0s 4ms/step - loss: 1.3807 - accuracy: 0.2850\n",
                        "Epoch 11/50\n",
                        "42/42 [==============================] - 0s 4ms/step - loss: 1.3842 - accuracy: 0.2885\n",
                        "Epoch 12/50\n",
                        "42/42 [==============================] - 0s 4ms/step - loss: 1.3810 - accuracy: 0.2871\n",
                        "Epoch 13/50\n",
                        "42/42 [==============================] - 0s 4ms/step - loss: 1.3804 - accuracy: 0.2921\n",
                        "Epoch 14/50\n",
                        "42/42 [==============================] - 0s 4ms/step - loss: 1.3824 - accuracy: 0.2915\n",
                        "Epoch 15/50\n",
                        "42/42 [==============================] - 0s 4ms/step - loss: 1.3768 - accuracy: 0.2980\n",
                        "Epoch 16/50\n",
                        "42/42 [==============================] - 0s 4ms/step - loss: 1.3756 - accuracy: 0.3010\n",
                        "Epoch 17/50\n",
                        "42/42 [==============================] - 0s 4ms/step - loss: 1.3780 - accuracy: 0.2953\n",
                        "Epoch 18/50\n",
                        "42/42 [==============================] - 0s 4ms/step - loss: 1.3771 - accuracy: 0.2900\n",
                        "Epoch 19/50\n",
                        "42/42 [==============================] - 0s 4ms/step - loss: 1.3772 - accuracy: 0.2989\n",
                        "Epoch 20/50\n",
                        "42/42 [==============================] - 0s 4ms/step - loss: 1.3791 - accuracy: 0.2936\n",
                        "Epoch 21/50\n",
                        "42/42 [==============================] - 0s 5ms/step - loss: 1.3778 - accuracy: 0.2974\n",
                        "Epoch 22/50\n",
                        "42/42 [==============================] - 0s 4ms/step - loss: 1.3755 - accuracy: 0.2965\n",
                        "Epoch 23/50\n",
                        "42/42 [==============================] - 0s 4ms/step - loss: 1.3745 - accuracy: 0.2909\n",
                        "Epoch 24/50\n",
                        "42/42 [==============================] - 0s 4ms/step - loss: 1.3754 - accuracy: 0.2965\n",
                        "Epoch 25/50\n",
                        "42/42 [==============================] - 0s 4ms/step - loss: 1.3713 - accuracy: 0.3077\n",
                        "Epoch 26/50\n",
                        "42/42 [==============================] - 0s 4ms/step - loss: 1.3729 - accuracy: 0.2978\n",
                        "Epoch 27/50\n",
                        "42/42 [==============================] - 0s 4ms/step - loss: 1.3736 - accuracy: 0.3003\n",
                        "Epoch 28/50\n",
                        "42/42 [==============================] - 0s 4ms/step - loss: 1.3726 - accuracy: 0.3003\n",
                        "Epoch 29/50\n",
                        "42/42 [==============================] - 0s 5ms/step - loss: 1.3732 - accuracy: 0.2959\n",
                        "Epoch 30/50\n",
                        "42/42 [==============================] - 0s 4ms/step - loss: 1.3733 - accuracy: 0.3005\n",
                        "Epoch 31/50\n",
                        "42/42 [==============================] - 0s 4ms/step - loss: 1.3707 - accuracy: 0.3149\n",
                        "Epoch 32/50\n",
                        "42/42 [==============================] - 0s 4ms/step - loss: 1.3713 - accuracy: 0.3085\n",
                        "Epoch 33/50\n",
                        "42/42 [==============================] - 0s 4ms/step - loss: 1.3712 - accuracy: 0.3006\n",
                        "Epoch 34/50\n",
                        "42/42 [==============================] - 0s 4ms/step - loss: 1.3728 - accuracy: 0.3001\n",
                        "Epoch 35/50\n",
                        "42/42 [==============================] - 0s 4ms/step - loss: 1.3729 - accuracy: 0.3043\n",
                        "Epoch 36/50\n",
                        "42/42 [==============================] - 0s 4ms/step - loss: 1.3713 - accuracy: 0.3041\n",
                        "Epoch 37/50\n",
                        "42/42 [==============================] - 0s 4ms/step - loss: 1.3714 - accuracy: 0.3083\n",
                        "Epoch 38/50\n",
                        "42/42 [==============================] - 0s 4ms/step - loss: 1.3714 - accuracy: 0.3026\n",
                        "Epoch 39/50\n",
                        "42/42 [==============================] - 0s 4ms/step - loss: 1.3709 - accuracy: 0.3046\n",
                        "Epoch 40/50\n",
                        "42/42 [==============================] - 0s 4ms/step - loss: 1.3704 - accuracy: 0.3096\n",
                        "Epoch 41/50\n",
                        "42/42 [==============================] - 0s 4ms/step - loss: 1.3674 - accuracy: 0.3026\n",
                        "Epoch 42/50\n",
                        "42/42 [==============================] - 0s 4ms/step - loss: 1.3710 - accuracy: 0.2993\n",
                        "Epoch 43/50\n",
                        "42/42 [==============================] - 0s 4ms/step - loss: 1.3688 - accuracy: 0.3092\n",
                        "Epoch 44/50\n",
                        "42/42 [==============================] - 0s 4ms/step - loss: 1.3696 - accuracy: 0.3046\n",
                        "Epoch 45/50\n",
                        "42/42 [==============================] - 0s 4ms/step - loss: 1.3657 - accuracy: 0.3079\n",
                        "Epoch 46/50\n",
                        "42/42 [==============================] - 0s 4ms/step - loss: 1.3681 - accuracy: 0.3109\n",
                        "Epoch 47/50\n",
                        "42/42 [==============================] - 0s 4ms/step - loss: 1.3684 - accuracy: 0.3052\n",
                        "Epoch 48/50\n",
                        "42/42 [==============================] - 0s 4ms/step - loss: 1.3668 - accuracy: 0.3115\n",
                        "Epoch 49/50\n",
                        "42/42 [==============================] - 0s 4ms/step - loss: 1.3668 - accuracy: 0.3123\n",
                        "Epoch 50/50\n",
                        "42/42 [==============================] - 0s 4ms/step - loss: 1.3680 - accuracy: 0.3092\n"
                    ]
                },
                {
                    "output_type": "execute_result",
                    "data": {
                        "text/plain": [
                            "<tensorflow.python.keras.callbacks.History at 0x1f8ad6f5fa0>"
                        ]
                    },
                    "metadata": {},
                    "execution_count": 187
                }
            ],
            "metadata": {}
        }
    ],
    "metadata": {
        "orig_nbformat": 4,
        "language_info": {
            "name": "python",
            "version": "3.9.5",
            "mimetype": "text/x-python",
            "codemirror_mode": {
                "name": "ipython",
                "version": 3
            },
            "pygments_lexer": "ipython3",
            "nbconvert_exporter": "python",
            "file_extension": ".py"
        },
        "kernelspec": {
            "name": "python3",
            "display_name": "Python 3.9.5 64-bit"
        },
        "interpreter": {
            "hash": "e7cdc39f23ac29a6303bdd82e0fd552d9870c2a2e456414f90a1e11b56e19d9d"
        }
    },
    "nbformat": 4,
    "nbformat_minor": 2
}